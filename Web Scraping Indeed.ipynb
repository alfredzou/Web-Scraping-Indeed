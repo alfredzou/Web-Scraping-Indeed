{
 "cells": [
  {
   "cell_type": "markdown",
   "metadata": {
    "Collapsed": "false"
   },
   "source": [
    "<img src=\"https://encrypted-tbn0.gstatic.com/images?q=tbn%3AANd9GcR79f0HtmO_rLX5R89c90X6owsEp6_zRRG7LUjr1ToQFx-R6f6I\" style=\"float: left; margin: 20px; height: 100px\">\n",
    "\n",
    "# Web Scraping Indeed\n",
    "\n",
    "_Author: Alfred Zou_\n",
    "\n",
    "---"
   ]
  },
  {
   "cell_type": "markdown",
   "metadata": {
    "Collapsed": "false"
   },
   "source": [
    "### Introduction\n",
    "---\n",
    "In my opinion, the emergence and sudden popularity of the data field is probably caused by a few factors:\n",
    "\n",
    "**Data has become easier to collect for companies, due to:**\n",
    "* the creation and popularity of the internet, which has lead to an explosion of data\n",
    "* the improvement of software systems to track purchases, customers, etc\n",
    "\n",
    "**Advancements in computing power and software:**\n",
    "* improvements in computing power, especially GPUs greatly speed up machine learning\n",
    "* the creation of cloud platforms, where computing power can be easily obtained without businesses needing to physically set up infrastructure \n",
    "* improvements in software has made data analysis and machine learning through python packages such as `pandas`, `scikit-learn` and `TensorFlow` much easier to learn and implement\n",
    "\n",
    "**Realisation of the importance of data:**\n",
    "* companies such as Facebook and Google have utilised personal data to serve advertisements\n",
    "* companies such as Spotify and YouTube have developed data driven recommendation systems\n",
    "\n",
    "Companys have realised the hidden potential of data that need to be analysed by `data analysts` to help drive decision making or used to make a prediction through a machine learning model created by a `data scientist`. Of course `data engineers` are needed to build the data pipeline for `data analyst` and `data scientists` to use."
   ]
  },
  {
   "cell_type": "markdown",
   "metadata": {
    "Collapsed": "false"
   },
   "source": [
    "### Aim\n",
    "---\n",
    "Due to the relatively new nature of the data field, data job positions haven't been concretely defined. Each company will have their own job titles with different and possible misconception of role requirements. For example, a HR person writing a job advertisement may confuse a `data scientist` with a `data analyst`. It is likely that as the profession becomes more mature, more specific date roles are introduced.\n",
    "\n",
    "I believe that there are four predominate data roles: `data analyst`, `data engineer`, `data scientist` and `business analyst`.\n",
    "\n",
    "My aim is to determine the most relevant skills requested in job advertisements for each of these four job titles."
   ]
  },
  {
   "cell_type": "markdown",
   "metadata": {
    "Collapsed": "true"
   },
   "source": [
    "### Limitations and Opportunities\n",
    "---\n",
    "* This analysis only looks at the Australian market, generalising outside of the Australian market will invalidate this model\n",
    "* This analysis only looks at job postings on Indeed\n",
    "* This analysis assumes four types of data roles, there maybe more. For example, the position as a data steward\n",
    "    * Note: performing an unspervised clustering, may determine how many data roles there actually are\n",
    "* This analysis does not determine the most relevant skills required for each of the four job titles, instead it determines the most releveant skills asked by job advertisements\n",
    "* There is probably a disconnect between the skills of those in the position and the skills being requested by job advertisements\n",
    "    * To truly determine the skills of those in the position, collecting data from those in the data field through survey or scraping LinkedIn data, would probably be a more effective mtheod"
   ]
  },
  {
   "cell_type": "markdown",
   "metadata": {
    "Collapsed": "false"
   },
   "source": [
    "## Job URL Scrapping\n",
    "---"
   ]
  },
  {
   "cell_type": "markdown",
   "metadata": {
    "Collapsed": "false"
   },
   "source": [
    "Here are the packages I will use:\n",
    "* `pandas` for DataFrames and `numpy` for maths operations\n",
    "* `requests.get()` to crawl websites and `Selector().xpath` to parse the html\n",
    "* `time.sleep()` to implement a delay during scraping to prevent errors\n",
    "* `time`\n",
    "* `re` (regex) for filtering and cleaning DataFrame"
   ]
  },
  {
   "cell_type": "code",
   "execution_count": 1,
   "metadata": {
    "Collapsed": "false"
   },
   "outputs": [],
   "source": [
    "# Import packages\n",
    "import pandas as pd\n",
    "import numpy as np\n",
    "import requests\n",
    "from scrapy.selector import Selector\n",
    "from IPython.display import clear_output\n",
    "import time\n",
    "import re"
   ]
  },
  {
   "cell_type": "code",
   "execution_count": 2,
   "metadata": {
    "Collapsed": "false"
   },
   "outputs": [],
   "source": [
    "# Iterating over search titles, which means that all words must be in the string for the job title\n",
    "search_titles = [\"data analyst\",\"data analytics\",\"business analyst\", \"business intelligence\", \"data scientist\",\"data science\",\"data engineer\",\"database engineer\",\"machine learning\"]"
   ]
  },
  {
   "cell_type": "code",
   "execution_count": 4,
   "metadata": {
    "Collapsed": "false"
   },
   "outputs": [
    {
     "name": "stdout",
     "output_type": "stream",
     "text": [
      "Job URL scraping completed: 449\n"
     ]
    }
   ],
   "source": [
    "'''\n",
    "Extract all job URLs for each search_title\n",
    "'''\n",
    "\n",
    "# Initialise empty list related to search term\n",
    "job_URL_list = []\n",
    "search_title_list = []\n",
    "\n",
    "# Start timer\n",
    "start = time.time()\n",
    "\n",
    "# Iterating over search titles, job types and salary ranges..\n",
    "for stitle in search_titles:\n",
    "\n",
    "    # Crawl to the first page of the search results\n",
    "    path = f\"https://au.indeed.com/jobs?as_ttl={stitle.replace(' ','+')}&sr=directhire&radius=0&l=Australia&fromage=any&limit=50&sort=&psf=advsrch&from=advancedsearch\"\n",
    "    req = requests.get(path)\n",
    "\n",
    "    # Extract the URLs for extra pages \n",
    "    extra_page_URL_list = Selector(text=req.text).xpath('//div[@class=\"pagination\"]/a/@href').getall()\n",
    "    extra_page_URL_list = extra_page_URL_list[:-1] # drop the last URL, due to next button URL\n",
    "    extra_page_URL_list = ['http://au.indeed.com' + i for i in extra_page_URL_list]            \n",
    "\n",
    "    print(f'Page 1 of {len(extra_page_URL_list)+1}:', end = '\\n\\n')\n",
    "\n",
    "    print(f'Searching for all jobs titles that include: {stitle}',end = '\\n')\n",
    "\n",
    "    # Extract all URLs for all the job listings in page 1\n",
    "    page_job_URL_list = Selector(text=req.text).xpath('//a[@data-tn-element=\"jobTitle\"]/@href').getall()\n",
    "    print(f\"{len(page_job_URL_list)} job URLs extracted from Page 1\", end = '\\n\\n')\n",
    "\n",
    "    # Append all job URLs\n",
    "    # Append search titles, job types and salary ranges to match number of job URLs\n",
    "    job_URL_list += page_job_URL_list\n",
    "    for i in range(len(page_job_URL_list)):\n",
    "        search_title_list.append(stitle)\n",
    "\n",
    "    # To make sure all list lengths are equal\n",
    "    print('Job URL count:',len(job_URL_list))\n",
    "    print('Search title count:',len(search_title_list))\n",
    "    clear_output(wait=True)\n",
    "\n",
    "    time.sleep(0.1)\n",
    "\n",
    "    # Iterate through all the additional pages\n",
    "    page_count = 1\n",
    "    for extra_page in extra_page_URL_list:\n",
    "        page_count += 1\n",
    "\n",
    "        # Crawl to extra page\n",
    "        req = requests.get(extra_page)\n",
    "        print(f'Page {page_count} of {len(extra_page_URL_list)+1}:', end = '\\n\\n')\n",
    "\n",
    "        print(f'Searching for all jobs titles that include: {stitle}',end = '\\n')\n",
    "\n",
    "        # Extract all URLs for all the job listings in extra pages\n",
    "        page_job_URL_list = Selector(text=req.text).xpath('//a[@data-tn-element=\"jobTitle\"]/@href').getall()\n",
    "        print(f\"{len(page_job_URL_list)} job URLs extracted from Page {page_count}\", end = '\\n\\n')\n",
    "\n",
    "        # Append all job URLs\n",
    "        # Append search titles, job types and salary ranges to match number of job URLs\n",
    "        job_URL_list += page_job_URL_list\n",
    "        for i in range(len(page_job_URL_list)):\n",
    "            search_title_list.append(stitle)\n",
    "\n",
    "        # To make sure all list lengths are equal\n",
    "        print('Job URL count:',len(job_URL_list))\n",
    "        print('Search title count:',len(search_title_list))\n",
    "        clear_output(wait=True) \n",
    "\n",
    "        time.sleep(0.1)\n",
    "                             \n",
    "job_URL_list = ['http://au.indeed.com' + i for i in job_URL_list]\n",
    "print(f\"Job URL scraping completed: {len(job_URL_list)}\", end = '\\n')\n",
    "\n",
    "end = time.time()"
   ]
  },
  {
   "cell_type": "code",
   "execution_count": 7,
   "metadata": {
    "Collapsed": "false"
   },
   "outputs": [
    {
     "data": {
      "text/html": [
       "<div>\n",
       "<style scoped>\n",
       "    .dataframe tbody tr th:only-of-type {\n",
       "        vertical-align: middle;\n",
       "    }\n",
       "\n",
       "    .dataframe tbody tr th {\n",
       "        vertical-align: top;\n",
       "    }\n",
       "\n",
       "    .dataframe thead th {\n",
       "        text-align: right;\n",
       "    }\n",
       "</style>\n",
       "<table border=\"1\" class=\"dataframe\">\n",
       "  <thead>\n",
       "    <tr style=\"text-align: right;\">\n",
       "      <th></th>\n",
       "      <th>search_title</th>\n",
       "      <th>job_url_search</th>\n",
       "    </tr>\n",
       "  </thead>\n",
       "  <tbody>\n",
       "    <tr>\n",
       "      <th>0</th>\n",
       "      <td>data analyst</td>\n",
       "      <td>http://au.indeed.com/pagead/clk?mo=r&amp;ad=-6NYlb...</td>\n",
       "    </tr>\n",
       "    <tr>\n",
       "      <th>1</th>\n",
       "      <td>data analyst</td>\n",
       "      <td>http://au.indeed.com/pagead/clk?mo=r&amp;ad=-6NYlb...</td>\n",
       "    </tr>\n",
       "    <tr>\n",
       "      <th>2</th>\n",
       "      <td>data analyst</td>\n",
       "      <td>http://au.indeed.com/rc/clk?jk=5c172b03ffbfed1...</td>\n",
       "    </tr>\n",
       "    <tr>\n",
       "      <th>3</th>\n",
       "      <td>data analyst</td>\n",
       "      <td>http://au.indeed.com/rc/clk?jk=e82ccf3d08dce7d...</td>\n",
       "    </tr>\n",
       "    <tr>\n",
       "      <th>4</th>\n",
       "      <td>data analyst</td>\n",
       "      <td>http://au.indeed.com/company/Carecone-Technolo...</td>\n",
       "    </tr>\n",
       "  </tbody>\n",
       "</table>\n",
       "</div>"
      ],
      "text/plain": [
       "   search_title                                     job_url_search\n",
       "0  data analyst  http://au.indeed.com/pagead/clk?mo=r&ad=-6NYlb...\n",
       "1  data analyst  http://au.indeed.com/pagead/clk?mo=r&ad=-6NYlb...\n",
       "2  data analyst  http://au.indeed.com/rc/clk?jk=5c172b03ffbfed1...\n",
       "3  data analyst  http://au.indeed.com/rc/clk?jk=e82ccf3d08dce7d...\n",
       "4  data analyst  http://au.indeed.com/company/Carecone-Technolo..."
      ]
     },
     "execution_count": 7,
     "metadata": {},
     "output_type": "execute_result"
    }
   ],
   "source": [
    "# Writing to df\n",
    "search = pd.DataFrame({\"search_title\": search_title_list,\"job_url_search\": job_URL_list})\n",
    "search.head()"
   ]
  },
  {
   "cell_type": "code",
   "execution_count": 8,
   "metadata": {
    "Collapsed": "false"
   },
   "outputs": [
    {
     "data": {
      "text/plain": [
       "(449, 2)"
      ]
     },
     "execution_count": 8,
     "metadata": {},
     "output_type": "execute_result"
    }
   ],
   "source": [
    "search.shape"
   ]
  },
  {
   "cell_type": "code",
   "execution_count": 9,
   "metadata": {
    "Collapsed": "false"
   },
   "outputs": [
    {
     "name": "stderr",
     "output_type": "stream",
     "text": [
      "A subdirectory or file Data already exists.\n"
     ]
    }
   ],
   "source": [
    "# Writing to csv\n",
    "!mkdir Data\n",
    "search.to_csv('Data\\search.csv',index=False)"
   ]
  },
  {
   "cell_type": "markdown",
   "metadata": {
    "Collapsed": "false"
   },
   "source": [
    "### Job Scrapping\n",
    "---"
   ]
  },
  {
   "cell_type": "code",
   "execution_count": 12,
   "metadata": {
    "Collapsed": "false"
   },
   "outputs": [
    {
     "name": "stdout",
     "output_type": "stream",
     "text": [
      "Wall time: 2min 33s\n"
     ]
    }
   ],
   "source": [
    "%%time\n",
    "\n",
    "'''\n",
    "For each job URL, scrape the job details\n",
    "'''\n",
    "\n",
    "# Initialising job detail lists\n",
    "job_url_result_list = []\n",
    "job_title_list = []\n",
    "company_list = []\n",
    "location_list = []\n",
    "salary_list = []\n",
    "job_description_list = []\n",
    "\n",
    "job_count = 0\n",
    "for i in job_URL_list:\n",
    "    job_count += 1\n",
    "\n",
    "    # Crawl to job URL\n",
    "    req = requests.get(i)\n",
    "    print(f'Job {job_count} of {len(job_URL_list)}:', end = '\\n\\n')\n",
    "        \n",
    "    # Extracting job details\n",
    "    job_title = Selector(text=req.text).xpath('//h3/text()').get()\n",
    "    company = Selector(text=req.text).xpath('//div[@class=\"icl-u-lg-mr--sm icl-u-xs-mr--xs\"]//text()').get()\n",
    "    location = Selector(text=req.text).xpath('//span[@class=\"jobsearch-JobMetadataHeader-iconLabel\"]/text()').get()\n",
    "    salary = Selector(text=req.text).xpath('//div[@class=\"icl-IconFunctional icl-IconFunctional--salary icl-IconFunctional--md\"]/following-sibling::span/text()').get()\n",
    "    job_description = ' '.join(Selector(text=req.text).xpath('//div[@id=\"jobDescriptionText\"]//text()').getall())\n",
    "    \n",
    "    # Appending all job details\n",
    "    job_url_result_list.append(i)\n",
    "    job_title_list.append(job_title)\n",
    "    company_list.append(company)\n",
    "    location_list.append(location)\n",
    "    salary_list.append(salary)\n",
    "    job_description_list.append(job_description)\n",
    "\n",
    "    print(f\"Job Title: {job_title}\", end = '\\n')\n",
    "    print(f\"Company: {company}\", end = '\\n')\n",
    "    print(f\"Location: {location}\", end = '\\n')\n",
    "    print(f\"Salary: {salary}\", end = '\\n\\n')\n",
    "    print(f\"Description:\", end = '\\n')\n",
    "    print(f\"{job_description}\")\n",
    "    \n",
    "    clear_output(wait=True)"
   ]
  },
  {
   "cell_type": "code",
   "execution_count": 13,
   "metadata": {
    "Collapsed": "false"
   },
   "outputs": [
    {
     "data": {
      "text/html": [
       "<div>\n",
       "<style scoped>\n",
       "    .dataframe tbody tr th:only-of-type {\n",
       "        vertical-align: middle;\n",
       "    }\n",
       "\n",
       "    .dataframe tbody tr th {\n",
       "        vertical-align: top;\n",
       "    }\n",
       "\n",
       "    .dataframe thead th {\n",
       "        text-align: right;\n",
       "    }\n",
       "</style>\n",
       "<table border=\"1\" class=\"dataframe\">\n",
       "  <thead>\n",
       "    <tr style=\"text-align: right;\">\n",
       "      <th></th>\n",
       "      <th>job_title</th>\n",
       "      <th>company</th>\n",
       "      <th>location</th>\n",
       "      <th>salary</th>\n",
       "      <th>description</th>\n",
       "      <th>job_url_result</th>\n",
       "    </tr>\n",
       "  </thead>\n",
       "  <tbody>\n",
       "    <tr>\n",
       "      <th>0</th>\n",
       "      <td>Data Governance Analyst</td>\n",
       "      <td>Genworth</td>\n",
       "      <td>Sydney NSW</td>\n",
       "      <td>None</td>\n",
       "      <td>Summary \\nThe Data Governance Analyst is accou...</td>\n",
       "      <td>http://au.indeed.com/pagead/clk?mo=r&amp;ad=-6NYlb...</td>\n",
       "    </tr>\n",
       "    <tr>\n",
       "      <th>1</th>\n",
       "      <td>People Systems Data Reporting Analyst</td>\n",
       "      <td>Lion</td>\n",
       "      <td>Sydney NSW</td>\n",
       "      <td>None</td>\n",
       "      <td>We have an exciting opportunity for an experie...</td>\n",
       "      <td>http://au.indeed.com/pagead/clk?mo=r&amp;ad=-6NYlb...</td>\n",
       "    </tr>\n",
       "    <tr>\n",
       "      <th>2</th>\n",
       "      <td>Junior Data Analyst/Scientist</td>\n",
       "      <td>International Institute of Data &amp; Analytics</td>\n",
       "      <td>Sydney NSW</td>\n",
       "      <td>None</td>\n",
       "      <td>The International Institute of Data &amp; Analytic...</td>\n",
       "      <td>http://au.indeed.com/rc/clk?jk=5c172b03ffbfed1...</td>\n",
       "    </tr>\n",
       "    <tr>\n",
       "      <th>3</th>\n",
       "      <td>Data &amp; Visualisation Analyst</td>\n",
       "      <td>HSBC</td>\n",
       "      <td>Sydney NSW</td>\n",
       "      <td>None</td>\n",
       "      <td>Some careers have more impact than others. \\n ...</td>\n",
       "      <td>http://au.indeed.com/rc/clk?jk=e82ccf3d08dce7d...</td>\n",
       "    </tr>\n",
       "    <tr>\n",
       "      <th>4</th>\n",
       "      <td>Data Modeler/Data Analyst</td>\n",
       "      <td>Carecone Technologies</td>\n",
       "      <td>Canberra ACT</td>\n",
       "      <td>None</td>\n",
       "      <td>(AUSTRALIAN CITIZENSHIP with BASELINE / NV1 CL...</td>\n",
       "      <td>http://au.indeed.com/company/Carecone-Technolo...</td>\n",
       "    </tr>\n",
       "  </tbody>\n",
       "</table>\n",
       "</div>"
      ],
      "text/plain": [
       "                               job_title  \\\n",
       "0                Data Governance Analyst   \n",
       "1  People Systems Data Reporting Analyst   \n",
       "2          Junior Data Analyst/Scientist   \n",
       "3           Data & Visualisation Analyst   \n",
       "4              Data Modeler/Data Analyst   \n",
       "\n",
       "                                       company      location salary  \\\n",
       "0                                     Genworth    Sydney NSW   None   \n",
       "1                                         Lion    Sydney NSW   None   \n",
       "2  International Institute of Data & Analytics    Sydney NSW   None   \n",
       "3                                         HSBC    Sydney NSW   None   \n",
       "4                        Carecone Technologies  Canberra ACT   None   \n",
       "\n",
       "                                         description  \\\n",
       "0  Summary \\nThe Data Governance Analyst is accou...   \n",
       "1  We have an exciting opportunity for an experie...   \n",
       "2  The International Institute of Data & Analytic...   \n",
       "3  Some careers have more impact than others. \\n ...   \n",
       "4  (AUSTRALIAN CITIZENSHIP with BASELINE / NV1 CL...   \n",
       "\n",
       "                                      job_url_result  \n",
       "0  http://au.indeed.com/pagead/clk?mo=r&ad=-6NYlb...  \n",
       "1  http://au.indeed.com/pagead/clk?mo=r&ad=-6NYlb...  \n",
       "2  http://au.indeed.com/rc/clk?jk=5c172b03ffbfed1...  \n",
       "3  http://au.indeed.com/rc/clk?jk=e82ccf3d08dce7d...  \n",
       "4  http://au.indeed.com/company/Carecone-Technolo...  "
      ]
     },
     "execution_count": 13,
     "metadata": {},
     "output_type": "execute_result"
    }
   ],
   "source": [
    "# Writing to df\n",
    "results = pd.DataFrame({\"job_title\": job_title_list,\"company\": company_list,\"location\": location_list,\"salary\": salary_list,\"description\":job_description_list,\"job_url_result\":job_url_result_list})\n",
    "results.head()"
   ]
  },
  {
   "cell_type": "code",
   "execution_count": 14,
   "metadata": {
    "Collapsed": "false"
   },
   "outputs": [
    {
     "data": {
      "text/plain": [
       "(449, 6)"
      ]
     },
     "execution_count": 14,
     "metadata": {},
     "output_type": "execute_result"
    }
   ],
   "source": [
    "results.shape"
   ]
  },
  {
   "cell_type": "code",
   "execution_count": 15,
   "metadata": {
    "Collapsed": "false"
   },
   "outputs": [
    {
     "name": "stderr",
     "output_type": "stream",
     "text": [
      "C:\\Users\\draciel\\Anaconda3\\lib\\site-packages\\pandas\\core\\strings.py:1843: UserWarning: This pattern has match groups. To actually get the groups, use str.extract.\n",
      "  return func(self, *args, **kwargs)\n"
     ]
    },
    {
     "data": {
      "text/plain": [
       "array(['BUSINESS ANALYST (DATA)', 'BUSINESS ANALYST',\n",
       "       'CONFLICTS ANALYST, NEW BUSINESS INTAKE',\n",
       "       'SENIOR BUSINESS ANALYST CONSULTANT', 'DATA SCIENTIST',\n",
       "       'RESEARCH FELLOW IN DATA SCIENCE',\n",
       "       'DATABASE AND SECURITY ENGINEER'], dtype=object)"
      ]
     },
     "execution_count": 15,
     "metadata": {},
     "output_type": "execute_result"
    }
   ],
   "source": [
    "# Sanity check on titles, OK\n",
    "results.loc[~(results['job_title'].str.contains(r'(Data)|(Analyst)|(Machine)|(Business)')),'job_title'].unique()"
   ]
  },
  {
   "cell_type": "code",
   "execution_count": 16,
   "metadata": {
    "Collapsed": "false"
   },
   "outputs": [],
   "source": [
    "# Drop non data related jobs\n",
    "results = results.drop(results.loc[results['job_title'].str.contains('DATABASE AND SECURITY ENGINEER') | results['job_title'].str.contains('CONFLICTS ANALYST')].index)"
   ]
  },
  {
   "cell_type": "code",
   "execution_count": 17,
   "metadata": {
    "Collapsed": "false"
   },
   "outputs": [],
   "source": [
    "# Reset index\n",
    "results = results.reset_index(drop=True)"
   ]
  },
  {
   "cell_type": "code",
   "execution_count": 18,
   "metadata": {
    "Collapsed": "false"
   },
   "outputs": [],
   "source": [
    "# Writing to csv\n",
    "results.to_csv('Data/results.csv',index=False)"
   ]
  },
  {
   "cell_type": "markdown",
   "metadata": {
    "Collapsed": "false"
   },
   "source": [
    "## Merging DataFrames\n",
    "---"
   ]
  },
  {
   "cell_type": "code",
   "execution_count": 19,
   "metadata": {
    "Collapsed": "false"
   },
   "outputs": [
    {
     "data": {
      "text/html": [
       "<div>\n",
       "<style scoped>\n",
       "    .dataframe tbody tr th:only-of-type {\n",
       "        vertical-align: middle;\n",
       "    }\n",
       "\n",
       "    .dataframe tbody tr th {\n",
       "        vertical-align: top;\n",
       "    }\n",
       "\n",
       "    .dataframe thead th {\n",
       "        text-align: right;\n",
       "    }\n",
       "</style>\n",
       "<table border=\"1\" class=\"dataframe\">\n",
       "  <thead>\n",
       "    <tr style=\"text-align: right;\">\n",
       "      <th></th>\n",
       "      <th>search_title</th>\n",
       "      <th>job_url_search</th>\n",
       "    </tr>\n",
       "  </thead>\n",
       "  <tbody>\n",
       "    <tr>\n",
       "      <th>0</th>\n",
       "      <td>data analyst</td>\n",
       "      <td>http://au.indeed.com/pagead/clk?mo=r&amp;ad=-6NYlb...</td>\n",
       "    </tr>\n",
       "    <tr>\n",
       "      <th>1</th>\n",
       "      <td>data analyst</td>\n",
       "      <td>http://au.indeed.com/pagead/clk?mo=r&amp;ad=-6NYlb...</td>\n",
       "    </tr>\n",
       "    <tr>\n",
       "      <th>2</th>\n",
       "      <td>data analyst</td>\n",
       "      <td>http://au.indeed.com/rc/clk?jk=5c172b03ffbfed1...</td>\n",
       "    </tr>\n",
       "    <tr>\n",
       "      <th>3</th>\n",
       "      <td>data analyst</td>\n",
       "      <td>http://au.indeed.com/rc/clk?jk=e82ccf3d08dce7d...</td>\n",
       "    </tr>\n",
       "    <tr>\n",
       "      <th>4</th>\n",
       "      <td>data analyst</td>\n",
       "      <td>http://au.indeed.com/company/Carecone-Technolo...</td>\n",
       "    </tr>\n",
       "  </tbody>\n",
       "</table>\n",
       "</div>"
      ],
      "text/plain": [
       "   search_title                                     job_url_search\n",
       "0  data analyst  http://au.indeed.com/pagead/clk?mo=r&ad=-6NYlb...\n",
       "1  data analyst  http://au.indeed.com/pagead/clk?mo=r&ad=-6NYlb...\n",
       "2  data analyst  http://au.indeed.com/rc/clk?jk=5c172b03ffbfed1...\n",
       "3  data analyst  http://au.indeed.com/rc/clk?jk=e82ccf3d08dce7d...\n",
       "4  data analyst  http://au.indeed.com/company/Carecone-Technolo..."
      ]
     },
     "execution_count": 19,
     "metadata": {},
     "output_type": "execute_result"
    }
   ],
   "source": [
    "search = pd.read_csv('Data/search.csv')\n",
    "search.head()"
   ]
  },
  {
   "cell_type": "code",
   "execution_count": 20,
   "metadata": {
    "Collapsed": "false"
   },
   "outputs": [
    {
     "data": {
      "text/plain": [
       "(447, 6)"
      ]
     },
     "execution_count": 20,
     "metadata": {},
     "output_type": "execute_result"
    }
   ],
   "source": [
    "results.shape"
   ]
  },
  {
   "cell_type": "code",
   "execution_count": 22,
   "metadata": {
    "Collapsed": "false"
   },
   "outputs": [
    {
     "data": {
      "text/html": [
       "<div>\n",
       "<style scoped>\n",
       "    .dataframe tbody tr th:only-of-type {\n",
       "        vertical-align: middle;\n",
       "    }\n",
       "\n",
       "    .dataframe tbody tr th {\n",
       "        vertical-align: top;\n",
       "    }\n",
       "\n",
       "    .dataframe thead th {\n",
       "        text-align: right;\n",
       "    }\n",
       "</style>\n",
       "<table border=\"1\" class=\"dataframe\">\n",
       "  <thead>\n",
       "    <tr style=\"text-align: right;\">\n",
       "      <th></th>\n",
       "      <th>job_title</th>\n",
       "      <th>company</th>\n",
       "      <th>location</th>\n",
       "      <th>salary</th>\n",
       "      <th>description</th>\n",
       "      <th>job_url_result</th>\n",
       "    </tr>\n",
       "  </thead>\n",
       "  <tbody>\n",
       "    <tr>\n",
       "      <th>0</th>\n",
       "      <td>Data Governance Analyst</td>\n",
       "      <td>Genworth</td>\n",
       "      <td>Sydney NSW</td>\n",
       "      <td>NaN</td>\n",
       "      <td>Summary \\nThe Data Governance Analyst is accou...</td>\n",
       "      <td>http://au.indeed.com/pagead/clk?mo=r&amp;ad=-6NYlb...</td>\n",
       "    </tr>\n",
       "    <tr>\n",
       "      <th>1</th>\n",
       "      <td>People Systems Data Reporting Analyst</td>\n",
       "      <td>Lion</td>\n",
       "      <td>Sydney NSW</td>\n",
       "      <td>NaN</td>\n",
       "      <td>We have an exciting opportunity for an experie...</td>\n",
       "      <td>http://au.indeed.com/pagead/clk?mo=r&amp;ad=-6NYlb...</td>\n",
       "    </tr>\n",
       "    <tr>\n",
       "      <th>2</th>\n",
       "      <td>Junior Data Analyst/Scientist</td>\n",
       "      <td>International Institute of Data &amp; Analytics</td>\n",
       "      <td>Sydney NSW</td>\n",
       "      <td>NaN</td>\n",
       "      <td>The International Institute of Data &amp; Analytic...</td>\n",
       "      <td>http://au.indeed.com/rc/clk?jk=5c172b03ffbfed1...</td>\n",
       "    </tr>\n",
       "    <tr>\n",
       "      <th>3</th>\n",
       "      <td>Data &amp; Visualisation Analyst</td>\n",
       "      <td>HSBC</td>\n",
       "      <td>Sydney NSW</td>\n",
       "      <td>NaN</td>\n",
       "      <td>Some careers have more impact than others. \\n ...</td>\n",
       "      <td>http://au.indeed.com/rc/clk?jk=e82ccf3d08dce7d...</td>\n",
       "    </tr>\n",
       "    <tr>\n",
       "      <th>4</th>\n",
       "      <td>Data Modeler/Data Analyst</td>\n",
       "      <td>Carecone Technologies</td>\n",
       "      <td>Canberra ACT</td>\n",
       "      <td>NaN</td>\n",
       "      <td>(AUSTRALIAN CITIZENSHIP with BASELINE / NV1 CL...</td>\n",
       "      <td>http://au.indeed.com/company/Carecone-Technolo...</td>\n",
       "    </tr>\n",
       "  </tbody>\n",
       "</table>\n",
       "</div>"
      ],
      "text/plain": [
       "                               job_title  \\\n",
       "0                Data Governance Analyst   \n",
       "1  People Systems Data Reporting Analyst   \n",
       "2          Junior Data Analyst/Scientist   \n",
       "3           Data & Visualisation Analyst   \n",
       "4              Data Modeler/Data Analyst   \n",
       "\n",
       "                                       company      location salary  \\\n",
       "0                                     Genworth    Sydney NSW    NaN   \n",
       "1                                         Lion    Sydney NSW    NaN   \n",
       "2  International Institute of Data & Analytics    Sydney NSW    NaN   \n",
       "3                                         HSBC    Sydney NSW    NaN   \n",
       "4                        Carecone Technologies  Canberra ACT    NaN   \n",
       "\n",
       "                                         description  \\\n",
       "0  Summary \\nThe Data Governance Analyst is accou...   \n",
       "1  We have an exciting opportunity for an experie...   \n",
       "2  The International Institute of Data & Analytic...   \n",
       "3  Some careers have more impact than others. \\n ...   \n",
       "4  (AUSTRALIAN CITIZENSHIP with BASELINE / NV1 CL...   \n",
       "\n",
       "                                      job_url_result  \n",
       "0  http://au.indeed.com/pagead/clk?mo=r&ad=-6NYlb...  \n",
       "1  http://au.indeed.com/pagead/clk?mo=r&ad=-6NYlb...  \n",
       "2  http://au.indeed.com/rc/clk?jk=5c172b03ffbfed1...  \n",
       "3  http://au.indeed.com/rc/clk?jk=e82ccf3d08dce7d...  \n",
       "4  http://au.indeed.com/company/Carecone-Technolo...  "
      ]
     },
     "execution_count": 22,
     "metadata": {},
     "output_type": "execute_result"
    }
   ],
   "source": [
    "results = pd.read_csv('Data/results.csv')\n",
    "results.head()"
   ]
  },
  {
   "cell_type": "code",
   "execution_count": 23,
   "metadata": {
    "Collapsed": "false"
   },
   "outputs": [
    {
     "data": {
      "text/html": [
       "<div>\n",
       "<style scoped>\n",
       "    .dataframe tbody tr th:only-of-type {\n",
       "        vertical-align: middle;\n",
       "    }\n",
       "\n",
       "    .dataframe tbody tr th {\n",
       "        vertical-align: top;\n",
       "    }\n",
       "\n",
       "    .dataframe thead th {\n",
       "        text-align: right;\n",
       "    }\n",
       "</style>\n",
       "<table border=\"1\" class=\"dataframe\">\n",
       "  <thead>\n",
       "    <tr style=\"text-align: right;\">\n",
       "      <th></th>\n",
       "      <th>search_title</th>\n",
       "      <th>job_title</th>\n",
       "      <th>company</th>\n",
       "      <th>location</th>\n",
       "      <th>salary</th>\n",
       "      <th>description</th>\n",
       "      <th>job_url_result</th>\n",
       "    </tr>\n",
       "  </thead>\n",
       "  <tbody>\n",
       "    <tr>\n",
       "      <th>0</th>\n",
       "      <td>data analyst</td>\n",
       "      <td>Data Governance Analyst</td>\n",
       "      <td>Genworth</td>\n",
       "      <td>Sydney NSW</td>\n",
       "      <td>NaN</td>\n",
       "      <td>Summary \\nThe Data Governance Analyst is accou...</td>\n",
       "      <td>http://au.indeed.com/pagead/clk?mo=r&amp;ad=-6NYlb...</td>\n",
       "    </tr>\n",
       "    <tr>\n",
       "      <th>1</th>\n",
       "      <td>data analyst</td>\n",
       "      <td>People Systems Data Reporting Analyst</td>\n",
       "      <td>Lion</td>\n",
       "      <td>Sydney NSW</td>\n",
       "      <td>NaN</td>\n",
       "      <td>We have an exciting opportunity for an experie...</td>\n",
       "      <td>http://au.indeed.com/pagead/clk?mo=r&amp;ad=-6NYlb...</td>\n",
       "    </tr>\n",
       "    <tr>\n",
       "      <th>2</th>\n",
       "      <td>data analyst</td>\n",
       "      <td>Junior Data Analyst/Scientist</td>\n",
       "      <td>International Institute of Data &amp; Analytics</td>\n",
       "      <td>Sydney NSW</td>\n",
       "      <td>NaN</td>\n",
       "      <td>The International Institute of Data &amp; Analytic...</td>\n",
       "      <td>http://au.indeed.com/rc/clk?jk=5c172b03ffbfed1...</td>\n",
       "    </tr>\n",
       "    <tr>\n",
       "      <th>3</th>\n",
       "      <td>data scientist</td>\n",
       "      <td>Junior Data Analyst/Scientist</td>\n",
       "      <td>International Institute of Data &amp; Analytics</td>\n",
       "      <td>Sydney NSW</td>\n",
       "      <td>NaN</td>\n",
       "      <td>The International Institute of Data &amp; Analytic...</td>\n",
       "      <td>http://au.indeed.com/rc/clk?jk=5c172b03ffbfed1...</td>\n",
       "    </tr>\n",
       "    <tr>\n",
       "      <th>6</th>\n",
       "      <td>data analyst</td>\n",
       "      <td>Data &amp; Visualisation Analyst</td>\n",
       "      <td>HSBC</td>\n",
       "      <td>Sydney NSW</td>\n",
       "      <td>NaN</td>\n",
       "      <td>Some careers have more impact than others. \\n ...</td>\n",
       "      <td>http://au.indeed.com/rc/clk?jk=e82ccf3d08dce7d...</td>\n",
       "    </tr>\n",
       "  </tbody>\n",
       "</table>\n",
       "</div>"
      ],
      "text/plain": [
       "     search_title                              job_title  \\\n",
       "0    data analyst                Data Governance Analyst   \n",
       "1    data analyst  People Systems Data Reporting Analyst   \n",
       "2    data analyst          Junior Data Analyst/Scientist   \n",
       "3  data scientist          Junior Data Analyst/Scientist   \n",
       "6    data analyst           Data & Visualisation Analyst   \n",
       "\n",
       "                                       company    location salary  \\\n",
       "0                                     Genworth  Sydney NSW    NaN   \n",
       "1                                         Lion  Sydney NSW    NaN   \n",
       "2  International Institute of Data & Analytics  Sydney NSW    NaN   \n",
       "3  International Institute of Data & Analytics  Sydney NSW    NaN   \n",
       "6                                         HSBC  Sydney NSW    NaN   \n",
       "\n",
       "                                         description  \\\n",
       "0  Summary \\nThe Data Governance Analyst is accou...   \n",
       "1  We have an exciting opportunity for an experie...   \n",
       "2  The International Institute of Data & Analytic...   \n",
       "3  The International Institute of Data & Analytic...   \n",
       "6  Some careers have more impact than others. \\n ...   \n",
       "\n",
       "                                      job_url_result  \n",
       "0  http://au.indeed.com/pagead/clk?mo=r&ad=-6NYlb...  \n",
       "1  http://au.indeed.com/pagead/clk?mo=r&ad=-6NYlb...  \n",
       "2  http://au.indeed.com/rc/clk?jk=5c172b03ffbfed1...  \n",
       "3  http://au.indeed.com/rc/clk?jk=5c172b03ffbfed1...  \n",
       "6  http://au.indeed.com/rc/clk?jk=e82ccf3d08dce7d...  "
      ]
     },
     "execution_count": 23,
     "metadata": {},
     "output_type": "execute_result"
    }
   ],
   "source": [
    "sr = pd.merge(search,results,how='right',left_on='job_url_search',right_on='job_url_result')\n",
    "sr = sr.drop(columns='job_url_search')\n",
    "sr = sr.drop_duplicates()\n",
    "sr.head()"
   ]
  },
  {
   "cell_type": "code",
   "execution_count": 24,
   "metadata": {
    "Collapsed": "false"
   },
   "outputs": [
    {
     "data": {
      "text/plain": [
       "(447, 7)"
      ]
     },
     "execution_count": 24,
     "metadata": {},
     "output_type": "execute_result"
    }
   ],
   "source": [
    "sr.shape"
   ]
  },
  {
   "cell_type": "markdown",
   "metadata": {
    "Collapsed": "false"
   },
   "source": [
    "## Cleaning\n",
    "---"
   ]
  },
  {
   "cell_type": "markdown",
   "metadata": {
    "Collapsed": "false"
   },
   "source": [
    "#### Cleaning search_titles\n",
    "---\n",
    "I have decided to split the split data roles into 4 main categoroes:\n",
    "* Data engineer: creates, manages and runs the data pipeline\n",
    "* Data analyst: analyses data using EDA to find trends and patterns. Visualises and communicates findings to others\n",
    "* Business Analyst: a data analyst but with a focus on improving business operations\n",
    "* Data scientist: creates machine learning models\n",
    "\n",
    "Keep in mind that the data field is still relatively new, so job titles aren't very well defined. \n",
    "\n",
    "Every company will have their own expectations and names for these roles."
   ]
  },
  {
   "cell_type": "code",
   "execution_count": 25,
   "metadata": {
    "Collapsed": "false"
   },
   "outputs": [
    {
     "data": {
      "text/plain": [
       "business analyst         198\n",
       "data engineer             73\n",
       "data analyst              67\n",
       "data scientist            32\n",
       "data analytics            25\n",
       "business intelligence     19\n",
       "data science              16\n",
       "machine learning          10\n",
       "database engineer          7\n",
       "Name: search_title, dtype: int64"
      ]
     },
     "execution_count": 25,
     "metadata": {},
     "output_type": "execute_result"
    }
   ],
   "source": [
    "sr['search_title'].value_counts()"
   ]
  },
  {
   "cell_type": "code",
   "execution_count": 26,
   "metadata": {
    "Collapsed": "false"
   },
   "outputs": [],
   "source": [
    "# Clean for all data engineer\n",
    "sr.loc[sr['search_title']=='database engineer','search_title'] = 'data engineer'\n",
    "\n",
    "# Clean for all data analyst\n",
    "sr.loc[sr['search_title']=='data analytics','search_title'] = 'data analyst'\n",
    "\n",
    "# Clean for all business analyst\n",
    "sr.loc[sr['search_title']=='business intelligence','search_title'] = 'business analyst'\n",
    "\n",
    "# Clean for all data scientist\n",
    "sr.loc[sr['search_title']=='machine learning','search_title'] = 'data scientist'\n",
    "sr.loc[sr['search_title']=='data science','search_title'] = 'data scientist'"
   ]
  },
  {
   "cell_type": "code",
   "execution_count": 27,
   "metadata": {
    "Collapsed": "false"
   },
   "outputs": [
    {
     "data": {
      "text/plain": [
       "business analyst    217\n",
       "data analyst         92\n",
       "data engineer        80\n",
       "data scientist       58\n",
       "Name: search_title, dtype: int64"
      ]
     },
     "execution_count": 27,
     "metadata": {},
     "output_type": "execute_result"
    }
   ],
   "source": [
    "sr['search_title'].value_counts()"
   ]
  },
  {
   "cell_type": "markdown",
   "metadata": {
    "Collapsed": "false"
   },
   "source": [
    "#### Dropping Duplicates\n",
    "---"
   ]
  },
  {
   "cell_type": "code",
   "execution_count": 29,
   "metadata": {
    "Collapsed": "false"
   },
   "outputs": [
    {
     "data": {
      "text/plain": [
       "(447, 7)"
      ]
     },
     "execution_count": 29,
     "metadata": {},
     "output_type": "execute_result"
    }
   ],
   "source": [
    "sr.shape"
   ]
  },
  {
   "cell_type": "code",
   "execution_count": 30,
   "metadata": {
    "Collapsed": "false"
   },
   "outputs": [],
   "source": [
    "# Only drops around 31\n",
    "# Probably from the same jobs picked up by multiple search_titles\n",
    "sr = sr.drop_duplicates()"
   ]
  },
  {
   "cell_type": "code",
   "execution_count": 31,
   "metadata": {
    "Collapsed": "false"
   },
   "outputs": [
    {
     "data": {
      "text/plain": [
       "(438, 7)"
      ]
     },
     "execution_count": 31,
     "metadata": {},
     "output_type": "execute_result"
    }
   ],
   "source": [
    "sr.shape"
   ]
  },
  {
   "cell_type": "markdown",
   "metadata": {
    "Collapsed": "false"
   },
   "source": [
    "#### Removing Nulls\n",
    "---\n",
    "We expect nulls in salary, we will deal with that later"
   ]
  },
  {
   "cell_type": "code",
   "execution_count": 33,
   "metadata": {
    "Collapsed": "false"
   },
   "outputs": [
    {
     "data": {
      "text/plain": [
       "search_title        0\n",
       "job_title           0\n",
       "company             0\n",
       "location            0\n",
       "salary            351\n",
       "description         0\n",
       "job_url_result      0\n",
       "dtype: int64"
      ]
     },
     "execution_count": 33,
     "metadata": {},
     "output_type": "execute_result"
    }
   ],
   "source": [
    "sr.isnull().sum()"
   ]
  },
  {
   "cell_type": "markdown",
   "metadata": {
    "Collapsed": "false"
   },
   "source": [
    "#### Cleaning company\n",
    "Remove any recruitment companies"
   ]
  },
  {
   "cell_type": "code",
   "execution_count": 34,
   "metadata": {
    "Collapsed": "false"
   },
   "outputs": [
    {
     "data": {
      "text/plain": [
       "array(['Genworth', 'Lion', 'International Institute of Data & Analytics',\n",
       "       'HSBC', 'Carecone Technologies', 'Westpac Group', 'FinXL',\n",
       "       'Veeva Systems', 'Servian',\n",
       "       'Department of Agriculture & Water Resources',\n",
       "       'Reprise Media Australia', 'oOh!', 'Orchard',\n",
       "       'Department of the Premier and Cabinet (DPC)', 'Interactive',\n",
       "       'Gravity Consulting', 'Canva', 'Ironbark',\n",
       "       'Power and Water Corporation', 'Atlassian', 'AMP Limited',\n",
       "       'Matific', 'Latitude Financial Services', 'IT Alliance Australia',\n",
       "       'Sirius People', 'ANZ Banking Group', 'City of Greater Geelong',\n",
       "       'EY', 'Government of South Australia', 'Macquarie Group Limited',\n",
       "       'Activ', 'Queensland Government', 'MyProsperity',\n",
       "       'Australian Military Bank', 'Optus', 'IE',\n",
       "       'Australian Mathematical Sciences Institute', 'Fortune Select',\n",
       "       'AGL Energy', 'Dialog Information Technology', 'Leidos',\n",
       "       'HUMANISED GROUP', 'Judo Bank', 'Lockheed Martin Australia',\n",
       "       'Freelancer.com', 'Life Without Barriers', 'MedicalDirector',\n",
       "       'Illumina', 'Merck KGaA', 'RUBIX.', 'Bank of Queensland',\n",
       "       'Johnathan Thurston Academy', 'ServiceNow', 'NSW Government',\n",
       "       'Curtin University of Technology', 'Cognizant', 'IBM',\n",
       "       'AWS Australia Pty Ltd', 'Commonwealth Bank', 'Slalom Consulting',\n",
       "       'Insight', 'Myhealth', 'Ahaan Pty Ltd', 'Lendlease',\n",
       "       'ANZ Internal Job Board', 'Northern Sydney Local Health District',\n",
       "       'Northcott', 'Carecone', 'Advanced Microgrid Solutions',\n",
       "       'Strive UK', 'eHealth NSW',\n",
       "       'Catholic Archdiocese of Melbourne (CAM)', 'Southern Cross Care',\n",
       "       'Tyro', 'Australian Government Department of Defence',\n",
       "       'Dentsu Aegis Network', 'Woolworths Group', 'BMW', 'RB', 'EML',\n",
       "       'Tata Consultancy Services (TCS)', 'Insurance Australia Group',\n",
       "       'Universal Music Group', 'RELX Group', 'Kinexus',\n",
       "       'DALET AUSTRALIA PTY LTD', 'Techmills Australia Pty Ltd',\n",
       "       'The Network IT', 'NTT', 'Reed Exhibitions', 'technwebs',\n",
       "       'ELMO Talent Management Software', 'News Corp Australia',\n",
       "       'Royal Australasian College of Dental Surgeons', 'Link Group',\n",
       "       'Tech Mahindra', 'Cerebral Palsy Alliance',\n",
       "       'Dacono Holdings Pty Ltd', 'BAE Systems Applied Intelligence',\n",
       "       'Betsson Group', \"McDonald's Australia\",\n",
       "       'Wesley Mission Queensland', 'Fiserv, Inc.', 'Cisco Systems',\n",
       "       'GFG Alliance', 'eWave', 'GWF', 'The Coca-Cola Company',\n",
       "       'Techmill Technologies', 'QBE',\n",
       "       'Commercial Passenger Vehicles Victoria', 'Urbis', 'BAR360', 'BSA',\n",
       "       'comparethemarket.com.au', 'ION', 'Akaal Pharma Pty Ltd',\n",
       "       'Velrada', 'Serco Group', 'Academy of Entrepreneurs', 'Kogan.com',\n",
       "       'GCI Consulting Pty Ltd', 'Charter Bridge Consulting', 'GroupM',\n",
       "       'AKAAL PHARMA', 'GrainCorp', 'Essential Energy',\n",
       "       'Mondelēz International', 'Macquarie Group', 'Telstra', 'Nine',\n",
       "       'eWave Commerce', 'China Molybdenum Co Ltd (CMOC) International',\n",
       "       'Babcock International', 'Alchemy Recruitment Consulting',\n",
       "       'Digital Web Epxerts', 'IRESS Limited',\n",
       "       'Information Technology & Engineering Consultants', 'Mantu',\n",
       "       'Bendigo & Adelaide Bank', 'Google', 'Dun And Bradstreet',\n",
       "       'BlueCross', 'Cerner Corporation', 'Aurizon', 'Calibre Group',\n",
       "       'The Glen Cameron Group', '3T Visions', 'Lutheran Services',\n",
       "       'The BCM Group', 'CITI', 'Victorian Government', 'RPS Group',\n",
       "       'Agri Labour Australia Pty Ltd', 'HESTA Super', 'Adobe',\n",
       "       'PriorityERP', 'WebZeb Solutions', 'United Petroleum',\n",
       "       'Barwon Health', 'Mineral Resources', 'GCI Consulting',\n",
       "       'Hewlett Packard Enterprise', 'Fathom Applications Pty Ltd',\n",
       "       'Downer Group', 'Holocentric', 'Clear Dynamics',\n",
       "       'Altitude Recruitment', 'Cohealth', 'Donesafe',\n",
       "       'General Mills - Food.Purpose.You', 'Coles',\n",
       "       'NAB - National Australia Bank',\n",
       "       'Department of Industry, Innovation and Science',\n",
       "       'Access Analytic', 'Avaloq', 'Simplot', 'Department of Industry',\n",
       "       'One Dot', 'Business Analysts Pty Ltd', 'J.R. Simplot Company',\n",
       "       'Opal Consulting Group', 'Tyroola', 'Transparency IT',\n",
       "       'Safe Places for Children', 'Amazon Support Services PtyLtd',\n",
       "       'Fortude', 'Dimodelo Solutions', 'TechSkills Accelerator',\n",
       "       'Reejig', 'Deloitte', 'Bupa', 'WooliesX', 'Robonomics AI',\n",
       "       'Omnicom Group', 'Biometix', 'Capgemini Australia',\n",
       "       'Alcoa Corporation', 'Amplifon', 'Oracle', 'BHP', 'UGL Limited',\n",
       "       'TBSx3', 'Accenture', 'University of Melbourne',\n",
       "       'Western Sydney University', 'h2o.ai', 'Tardis Group', 'Immutable',\n",
       "       'Itoc', 'deltatre', 'Amazon Corporate Services Pty',\n",
       "       'Finecast-APAC', 'Autumn Compass', 'Westbury Partners', 'XREF',\n",
       "       'SoftLabs Pty Ltd', 'Broadspectrum', 'DXC Technology', 'OFX',\n",
       "       'BAE Systems', 'ING', 'Dtex Systems', 'Vix Technology UK Limited',\n",
       "       'Jaxsta Enterprise', 'Transurban', 'Contino', 'Thales Group',\n",
       "       'Fusion Professionals', 'Versent', 'HotDoc', 'Percona',\n",
       "       'Akuna Capital', 'Max Kelsen', 'Culture Amp', 'Zendesk'],\n",
       "      dtype=object)"
      ]
     },
     "execution_count": 34,
     "metadata": {},
     "output_type": "execute_result"
    }
   ],
   "source": [
    "sr['company'].unique()"
   ]
  },
  {
   "cell_type": "code",
   "execution_count": 35,
   "metadata": {
    "Collapsed": "false"
   },
   "outputs": [
    {
     "data": {
      "text/plain": [
       "Int64Index([265, 338, 349, 412, 413], dtype='int64')"
      ]
     },
     "execution_count": 35,
     "metadata": {},
     "output_type": "execute_result"
    }
   ],
   "source": [
    "recruitment_index = sr[sr['company'].str.contains(r'([Rr]ecruit)')].index\n",
    "recruitment_index"
   ]
  },
  {
   "cell_type": "code",
   "execution_count": 36,
   "metadata": {
    "Collapsed": "false"
   },
   "outputs": [],
   "source": [
    "recruitment_index = recruitment_index.append(sr[sr['company']=='Sirius People'].index)"
   ]
  },
  {
   "cell_type": "code",
   "execution_count": 37,
   "metadata": {
    "Collapsed": "false"
   },
   "outputs": [
    {
     "data": {
      "text/plain": [
       "9"
      ]
     },
     "execution_count": 37,
     "metadata": {},
     "output_type": "execute_result"
    }
   ],
   "source": [
    "len(recruitment_index)"
   ]
  },
  {
   "cell_type": "code",
   "execution_count": 38,
   "metadata": {
    "Collapsed": "false"
   },
   "outputs": [],
   "source": [
    "sr = sr.drop(recruitment_index)"
   ]
  },
  {
   "cell_type": "code",
   "execution_count": 39,
   "metadata": {
    "Collapsed": "false"
   },
   "outputs": [
    {
     "data": {
      "text/html": [
       "<div>\n",
       "<style scoped>\n",
       "    .dataframe tbody tr th:only-of-type {\n",
       "        vertical-align: middle;\n",
       "    }\n",
       "\n",
       "    .dataframe tbody tr th {\n",
       "        vertical-align: top;\n",
       "    }\n",
       "\n",
       "    .dataframe thead th {\n",
       "        text-align: right;\n",
       "    }\n",
       "</style>\n",
       "<table border=\"1\" class=\"dataframe\">\n",
       "  <thead>\n",
       "    <tr style=\"text-align: right;\">\n",
       "      <th></th>\n",
       "      <th>search_title</th>\n",
       "      <th>job_title</th>\n",
       "      <th>company</th>\n",
       "      <th>location</th>\n",
       "      <th>salary</th>\n",
       "      <th>description</th>\n",
       "      <th>job_url_result</th>\n",
       "    </tr>\n",
       "  </thead>\n",
       "  <tbody>\n",
       "    <tr>\n",
       "      <th>0</th>\n",
       "      <td>data analyst</td>\n",
       "      <td>Data Governance Analyst</td>\n",
       "      <td>Genworth</td>\n",
       "      <td>Sydney NSW</td>\n",
       "      <td>NaN</td>\n",
       "      <td>Summary \\nThe Data Governance Analyst is accou...</td>\n",
       "      <td>http://au.indeed.com/pagead/clk?mo=r&amp;ad=-6NYlb...</td>\n",
       "    </tr>\n",
       "    <tr>\n",
       "      <th>1</th>\n",
       "      <td>data analyst</td>\n",
       "      <td>People Systems Data Reporting Analyst</td>\n",
       "      <td>Lion</td>\n",
       "      <td>Sydney NSW</td>\n",
       "      <td>NaN</td>\n",
       "      <td>We have an exciting opportunity for an experie...</td>\n",
       "      <td>http://au.indeed.com/pagead/clk?mo=r&amp;ad=-6NYlb...</td>\n",
       "    </tr>\n",
       "    <tr>\n",
       "      <th>2</th>\n",
       "      <td>data analyst</td>\n",
       "      <td>Junior Data Analyst/Scientist</td>\n",
       "      <td>International Institute of Data &amp; Analytics</td>\n",
       "      <td>Sydney NSW</td>\n",
       "      <td>NaN</td>\n",
       "      <td>The International Institute of Data &amp; Analytic...</td>\n",
       "      <td>http://au.indeed.com/rc/clk?jk=5c172b03ffbfed1...</td>\n",
       "    </tr>\n",
       "    <tr>\n",
       "      <th>3</th>\n",
       "      <td>data scientist</td>\n",
       "      <td>Junior Data Analyst/Scientist</td>\n",
       "      <td>International Institute of Data &amp; Analytics</td>\n",
       "      <td>Sydney NSW</td>\n",
       "      <td>NaN</td>\n",
       "      <td>The International Institute of Data &amp; Analytic...</td>\n",
       "      <td>http://au.indeed.com/rc/clk?jk=5c172b03ffbfed1...</td>\n",
       "    </tr>\n",
       "    <tr>\n",
       "      <th>6</th>\n",
       "      <td>data analyst</td>\n",
       "      <td>Data &amp; Visualisation Analyst</td>\n",
       "      <td>HSBC</td>\n",
       "      <td>Sydney NSW</td>\n",
       "      <td>NaN</td>\n",
       "      <td>Some careers have more impact than others. \\n ...</td>\n",
       "      <td>http://au.indeed.com/rc/clk?jk=e82ccf3d08dce7d...</td>\n",
       "    </tr>\n",
       "  </tbody>\n",
       "</table>\n",
       "</div>"
      ],
      "text/plain": [
       "     search_title                              job_title  \\\n",
       "0    data analyst                Data Governance Analyst   \n",
       "1    data analyst  People Systems Data Reporting Analyst   \n",
       "2    data analyst          Junior Data Analyst/Scientist   \n",
       "3  data scientist          Junior Data Analyst/Scientist   \n",
       "6    data analyst           Data & Visualisation Analyst   \n",
       "\n",
       "                                       company    location salary  \\\n",
       "0                                     Genworth  Sydney NSW    NaN   \n",
       "1                                         Lion  Sydney NSW    NaN   \n",
       "2  International Institute of Data & Analytics  Sydney NSW    NaN   \n",
       "3  International Institute of Data & Analytics  Sydney NSW    NaN   \n",
       "6                                         HSBC  Sydney NSW    NaN   \n",
       "\n",
       "                                         description  \\\n",
       "0  Summary \\nThe Data Governance Analyst is accou...   \n",
       "1  We have an exciting opportunity for an experie...   \n",
       "2  The International Institute of Data & Analytic...   \n",
       "3  The International Institute of Data & Analytic...   \n",
       "6  Some careers have more impact than others. \\n ...   \n",
       "\n",
       "                                      job_url_result  \n",
       "0  http://au.indeed.com/pagead/clk?mo=r&ad=-6NYlb...  \n",
       "1  http://au.indeed.com/pagead/clk?mo=r&ad=-6NYlb...  \n",
       "2  http://au.indeed.com/rc/clk?jk=5c172b03ffbfed1...  \n",
       "3  http://au.indeed.com/rc/clk?jk=5c172b03ffbfed1...  \n",
       "6  http://au.indeed.com/rc/clk?jk=e82ccf3d08dce7d...  "
      ]
     },
     "execution_count": 39,
     "metadata": {},
     "output_type": "execute_result"
    }
   ],
   "source": [
    "sr.head()"
   ]
  },
  {
   "cell_type": "markdown",
   "metadata": {
    "Collapsed": "false"
   },
   "source": [
    "#### Cleaning location\n",
    "---\n",
    "Consolidate work locations"
   ]
  },
  {
   "cell_type": "code",
   "execution_count": 40,
   "metadata": {
    "Collapsed": "false"
   },
   "outputs": [
    {
     "data": {
      "text/plain": [
       "array(['Sydney NSW', 'Canberra ACT', 'Canberra ACT 2601', 'Australia',\n",
       "       'North Sydney NSW', 'Port Melbourne VIC', 'Canberra ACT 2600',\n",
       "       'Eight Mile Plains QLD', 'Darwin NT', 'Sydney NSW 2000',\n",
       "       'Docklands VIC', 'Melbourne VIC', 'Geelong VIC',\n",
       "       'Adelaide SA 5000', 'Wembley WA', 'Brisbane QLD', 'Hawthorn VIC',\n",
       "       'Macquarie Park NSW', 'Melbourne VIC 3000', 'Newstead QLD',\n",
       "       'Newstead QLD 4006', 'Perth WA', 'Melbourne VIC 3001',\n",
       "       'Sydney Central Business District NSW', 'Parramatta NSW 2150',\n",
       "       'St Leonards NSW', 'Chatswood NSW', 'Osborne SA',\n",
       "       'Glenwood NSW 2768', 'Northern Beaches NSW', 'Balmain NSW 2041',\n",
       "       'Rhodes NSW 2138', 'Tasmania', 'Chermside QLD',\n",
       "       'North Sydney NSW 2060', 'Parramatta NSW',\n",
       "       'Melbourne City Centre VIC', 'Queensland', 'Bundoora VIC',\n",
       "       'South Melbourne VIC 3205', 'Port Macquarie NSW',\n",
       "       'South Melbourne VIC', 'Eight Mile Plains QLD 4113',\n",
       "       'Pyrmont NSW 2009', 'Parkes NSW 2870', 'Adelaide SA',\n",
       "       'Shepparton VIC', 'New South Wales', 'Baulkham Hills NSW',\n",
       "       'Bayswater VIC', 'Milton QLD', 'Fortitude Valley QLD 4006',\n",
       "       'Toowoomba QLD', 'Wantirna South VIC', 'Bendigo VIC',\n",
       "       'Footscray VIC', 'Pyrmont NSW', 'Foster VIC', 'Hawthorn East VIC',\n",
       "       'Paddington NSW', 'Sunshine Coast QLD', 'South Yarra VIC 3141',\n",
       "       'Ultimo NSW 2007', 'Victoria', 'Darlinghurst NSW 2010',\n",
       "       'Newcastle NSW', 'Barton ACT', 'Kwinana WA', 'Mulgrave VIC',\n",
       "       'Parkville VIC', 'Surry Hills NSW', 'Williamstown VIC',\n",
       "       'Perth WA 6000'], dtype=object)"
      ]
     },
     "execution_count": 40,
     "metadata": {},
     "output_type": "execute_result"
    }
   ],
   "source": [
    "sr['location'].unique()"
   ]
  },
  {
   "cell_type": "code",
   "execution_count": 41,
   "metadata": {
    "Collapsed": "false"
   },
   "outputs": [],
   "source": [
    "# Separating NSW into CBD and other\n",
    "sr.loc[sr['location'].str.contains(r'(NSW 2000)|(Haymarket NSW)|(District NSW)'),'location'] = 'NSW Sydney CBD'\n",
    "sr.loc[sr['location'].str.contains(r'(NSW)|(New South)') & ~(sr['location'].str.contains(r'NSW Sydney CBD')),'location'] = 'NSW other'\n",
    "# Separating Vic into CBD and other\n",
    "sr.loc[sr['location'].str.contains(r'(VIC 3000)|(City Centre VIC)'),'location'] = 'VIC Melbourne CBD'\n",
    "sr.loc[(sr['location'].str.contains(r'(VIC)|(Victoria)')) & ~(sr['location'].str.contains(r'VIC Melbourne CBD')),'location'] = 'Vic other'\n",
    "# Keep other small states together\n",
    "sr.loc[sr['location'].str.contains(r'(QLD)|(Queensland)'),'location'] = 'QLD'\n",
    "sr.loc[sr['location'].str.contains(r'WA'),'location'] = 'WA'\n",
    "sr.loc[sr['location'].str.contains(r'(SA)|(South Australia)'),'location'] = 'SA'\n",
    "sr.loc[sr['location'].str.contains(r'(Darwin)'),'location'] = 'NT'\n",
    "sr.loc[sr['location'].str.contains(r'ACT'),'location'] = 'ACT Canberra'"
   ]
  },
  {
   "cell_type": "code",
   "execution_count": 42,
   "metadata": {
    "Collapsed": "false"
   },
   "outputs": [
    {
     "data": {
      "text/plain": [
       "array(['NSW other', 'ACT Canberra', 'Australia', 'Vic other', 'QLD', 'NT',\n",
       "       'NSW Sydney CBD', 'SA', 'WA', 'VIC Melbourne CBD', 'Tasmania'],\n",
       "      dtype=object)"
      ]
     },
     "execution_count": 42,
     "metadata": {},
     "output_type": "execute_result"
    }
   ],
   "source": [
    "sr['location'].unique()"
   ]
  },
  {
   "cell_type": "code",
   "execution_count": 43,
   "metadata": {
    "Collapsed": "false"
   },
   "outputs": [
    {
     "data": {
      "text/plain": [
       "NSW other            213\n",
       "Vic other             83\n",
       "QLD                   34\n",
       "ACT Canberra          25\n",
       "NSW Sydney CBD        25\n",
       "Australia             17\n",
       "WA                    13\n",
       "SA                    12\n",
       "VIC Melbourne CBD      4\n",
       "NT                     2\n",
       "Tasmania               1\n",
       "Name: location, dtype: int64"
      ]
     },
     "execution_count": 43,
     "metadata": {},
     "output_type": "execute_result"
    }
   ],
   "source": [
    "sr['location'].value_counts()"
   ]
  },
  {
   "cell_type": "markdown",
   "metadata": {
    "Collapsed": "false"
   },
   "source": [
    "#### Cleaning job_titles\n",
    "---\n",
    "Lets remove all managers"
   ]
  },
  {
   "cell_type": "code",
   "execution_count": 44,
   "metadata": {
    "Collapsed": "false"
   },
   "outputs": [
    {
     "data": {
      "text/plain": [
       "array(['Senior Manager, Data & Analytics',\n",
       "       'Senior Manager - OR&C Data Steward, Operational Risk Analytics',\n",
       "       'Senior Manager Data & Analytics - 9 month FTC/Secondment',\n",
       "       'Senior Manager – Data & Analytics',\n",
       "       'Senior Manager, Data & Analytics - Australia',\n",
       "       'Data Scientist Manager / Senior Manager, Decision Modelling & Analytics - Melbourne & Sydney',\n",
       "       'Manager, Data Analytics, Digital Risk Advisory – Melbourne',\n",
       "       'Senior Manager, Risk Data, Analytics and Reporting Enablement',\n",
       "       'Business Analyst/Project Manager',\n",
       "       'Business Analyst & Development Manager',\n",
       "       'Business Intelligence Manager',\n",
       "       'Data Center Construction Cost Engineer Program Manager'],\n",
       "      dtype=object)"
      ]
     },
     "execution_count": 44,
     "metadata": {},
     "output_type": "execute_result"
    }
   ],
   "source": [
    "sr.loc[sr['job_title'].str.contains(r'[Mm]anager'),'job_title'].unique()"
   ]
  },
  {
   "cell_type": "code",
   "execution_count": 45,
   "metadata": {
    "Collapsed": "false"
   },
   "outputs": [],
   "source": [
    "sr = sr.drop(sr.loc[sr['job_title'].str.contains(r'[Mm]anager')].index)"
   ]
  },
  {
   "cell_type": "code",
   "execution_count": 46,
   "metadata": {
    "Collapsed": "false"
   },
   "outputs": [
    {
     "data": {
      "text/plain": [
       "(416, 7)"
      ]
     },
     "execution_count": 46,
     "metadata": {},
     "output_type": "execute_result"
    }
   ],
   "source": [
    "sr.shape"
   ]
  },
  {
   "cell_type": "markdown",
   "metadata": {
    "Collapsed": "false"
   },
   "source": [
    "#### Saving\n",
    "---"
   ]
  },
  {
   "cell_type": "code",
   "execution_count": 47,
   "metadata": {
    "Collapsed": "false"
   },
   "outputs": [],
   "source": [
    "cleaned = sr.reset_index(drop=True)"
   ]
  },
  {
   "cell_type": "code",
   "execution_count": 48,
   "metadata": {
    "Collapsed": "false"
   },
   "outputs": [],
   "source": [
    "cleaned.to_csv('Data/cleaned.csv',index=False)"
   ]
  },
  {
   "cell_type": "markdown",
   "metadata": {
    "Collapsed": "false"
   },
   "source": [
    "## Q1 Predicting Salary model 1: Linear Regression\n",
    "---\n",
    "Method:\n",
    "1. The target is the salary\n",
    "2. Train test split\n",
    "3. Vectorise job_title and description\n",
    "4. pd.getdummies for categorical variables \n",
    "5. CV"
   ]
  },
  {
   "cell_type": "code",
   "execution_count": 2,
   "metadata": {
    "Collapsed": "false"
   },
   "outputs": [],
   "source": [
    "sr = pd.read_csv('Data/cleaned.csv')"
   ]
  },
  {
   "cell_type": "code",
   "execution_count": 3,
   "metadata": {
    "Collapsed": "false"
   },
   "outputs": [
    {
     "data": {
      "text/html": [
       "<div>\n",
       "<style scoped>\n",
       "    .dataframe tbody tr th:only-of-type {\n",
       "        vertical-align: middle;\n",
       "    }\n",
       "\n",
       "    .dataframe tbody tr th {\n",
       "        vertical-align: top;\n",
       "    }\n",
       "\n",
       "    .dataframe thead th {\n",
       "        text-align: right;\n",
       "    }\n",
       "</style>\n",
       "<table border=\"1\" class=\"dataframe\">\n",
       "  <thead>\n",
       "    <tr style=\"text-align: right;\">\n",
       "      <th></th>\n",
       "      <th>search_title</th>\n",
       "      <th>job_title</th>\n",
       "      <th>company</th>\n",
       "      <th>location</th>\n",
       "      <th>salary</th>\n",
       "      <th>description</th>\n",
       "      <th>job_url_result</th>\n",
       "    </tr>\n",
       "  </thead>\n",
       "  <tbody>\n",
       "    <tr>\n",
       "      <th>0</th>\n",
       "      <td>data analyst</td>\n",
       "      <td>Data Governance Analyst</td>\n",
       "      <td>Genworth</td>\n",
       "      <td>NSW other</td>\n",
       "      <td>NaN</td>\n",
       "      <td>Summary \\nThe Data Governance Analyst is accou...</td>\n",
       "      <td>http://au.indeed.com/pagead/clk?mo=r&amp;ad=-6NYlb...</td>\n",
       "    </tr>\n",
       "    <tr>\n",
       "      <th>1</th>\n",
       "      <td>data analyst</td>\n",
       "      <td>People Systems Data Reporting Analyst</td>\n",
       "      <td>Lion</td>\n",
       "      <td>NSW other</td>\n",
       "      <td>NaN</td>\n",
       "      <td>We have an exciting opportunity for an experie...</td>\n",
       "      <td>http://au.indeed.com/pagead/clk?mo=r&amp;ad=-6NYlb...</td>\n",
       "    </tr>\n",
       "    <tr>\n",
       "      <th>2</th>\n",
       "      <td>data analyst</td>\n",
       "      <td>Junior Data Analyst/Scientist</td>\n",
       "      <td>International Institute of Data &amp; Analytics</td>\n",
       "      <td>NSW other</td>\n",
       "      <td>NaN</td>\n",
       "      <td>The International Institute of Data &amp; Analytic...</td>\n",
       "      <td>http://au.indeed.com/rc/clk?jk=5c172b03ffbfed1...</td>\n",
       "    </tr>\n",
       "    <tr>\n",
       "      <th>3</th>\n",
       "      <td>data scientist</td>\n",
       "      <td>Junior Data Analyst/Scientist</td>\n",
       "      <td>International Institute of Data &amp; Analytics</td>\n",
       "      <td>NSW other</td>\n",
       "      <td>NaN</td>\n",
       "      <td>The International Institute of Data &amp; Analytic...</td>\n",
       "      <td>http://au.indeed.com/rc/clk?jk=5c172b03ffbfed1...</td>\n",
       "    </tr>\n",
       "    <tr>\n",
       "      <th>4</th>\n",
       "      <td>data analyst</td>\n",
       "      <td>Data &amp; Visualisation Analyst</td>\n",
       "      <td>HSBC</td>\n",
       "      <td>NSW other</td>\n",
       "      <td>NaN</td>\n",
       "      <td>Some careers have more impact than others. \\n ...</td>\n",
       "      <td>http://au.indeed.com/rc/clk?jk=e82ccf3d08dce7d...</td>\n",
       "    </tr>\n",
       "  </tbody>\n",
       "</table>\n",
       "</div>"
      ],
      "text/plain": [
       "     search_title                              job_title  \\\n",
       "0    data analyst                Data Governance Analyst   \n",
       "1    data analyst  People Systems Data Reporting Analyst   \n",
       "2    data analyst          Junior Data Analyst/Scientist   \n",
       "3  data scientist          Junior Data Analyst/Scientist   \n",
       "4    data analyst           Data & Visualisation Analyst   \n",
       "\n",
       "                                       company   location salary  \\\n",
       "0                                     Genworth  NSW other    NaN   \n",
       "1                                         Lion  NSW other    NaN   \n",
       "2  International Institute of Data & Analytics  NSW other    NaN   \n",
       "3  International Institute of Data & Analytics  NSW other    NaN   \n",
       "4                                         HSBC  NSW other    NaN   \n",
       "\n",
       "                                         description  \\\n",
       "0  Summary \\nThe Data Governance Analyst is accou...   \n",
       "1  We have an exciting opportunity for an experie...   \n",
       "2  The International Institute of Data & Analytic...   \n",
       "3  The International Institute of Data & Analytic...   \n",
       "4  Some careers have more impact than others. \\n ...   \n",
       "\n",
       "                                      job_url_result  \n",
       "0  http://au.indeed.com/pagead/clk?mo=r&ad=-6NYlb...  \n",
       "1  http://au.indeed.com/pagead/clk?mo=r&ad=-6NYlb...  \n",
       "2  http://au.indeed.com/rc/clk?jk=5c172b03ffbfed1...  \n",
       "3  http://au.indeed.com/rc/clk?jk=5c172b03ffbfed1...  \n",
       "4  http://au.indeed.com/rc/clk?jk=e82ccf3d08dce7d...  "
      ]
     },
     "execution_count": 3,
     "metadata": {},
     "output_type": "execute_result"
    }
   ],
   "source": [
    "sr.head()"
   ]
  },
  {
   "cell_type": "markdown",
   "metadata": {
    "Collapsed": "false"
   },
   "source": [
    "### Test Train Split\n",
    "---\n",
    "Keep test and train separate, so we don't get influenced by the test set"
   ]
  },
  {
   "cell_type": "code",
   "execution_count": 4,
   "metadata": {
    "Collapsed": "false"
   },
   "outputs": [],
   "source": [
    "y = sr['job_title']\n",
    "X = sr[['description']]\n",
    "\n",
    "from sklearn.model_selection import train_test_split\n",
    "\n",
    "X_train, X_test, y_train, y_test = train_test_split(X,y,train_size = 0.8,random_state=400)"
   ]
  },
  {
   "cell_type": "code",
   "execution_count": 5,
   "metadata": {
    "Collapsed": "false"
   },
   "outputs": [
    {
     "name": "stdout",
     "output_type": "stream",
     "text": [
      "(332, 1) (84, 1)\n"
     ]
    }
   ],
   "source": [
    "print(X_train.shape,X_test.shape)"
   ]
  },
  {
   "cell_type": "code",
   "execution_count": 6,
   "metadata": {
    "Collapsed": "false"
   },
   "outputs": [],
   "source": [
    "# Reset index for easier feature engineering\n",
    "X_train.reset_index(drop=True,inplace=True)\n",
    "X_test.reset_index(drop=True,inplace=True)"
   ]
  },
  {
   "cell_type": "code",
   "execution_count": 7,
   "metadata": {
    "Collapsed": "false"
   },
   "outputs": [
    {
     "data": {
      "text/html": [
       "<div>\n",
       "<style scoped>\n",
       "    .dataframe tbody tr th:only-of-type {\n",
       "        vertical-align: middle;\n",
       "    }\n",
       "\n",
       "    .dataframe tbody tr th {\n",
       "        vertical-align: top;\n",
       "    }\n",
       "\n",
       "    .dataframe thead th {\n",
       "        text-align: right;\n",
       "    }\n",
       "</style>\n",
       "<table border=\"1\" class=\"dataframe\">\n",
       "  <thead>\n",
       "    <tr style=\"text-align: right;\">\n",
       "      <th></th>\n",
       "      <th>description</th>\n",
       "    </tr>\n",
       "  </thead>\n",
       "  <tbody>\n",
       "    <tr>\n",
       "      <th>0</th>\n",
       "      <td>Company Description \\n \\nWho we are \\nAt Leido...</td>\n",
       "    </tr>\n",
       "    <tr>\n",
       "      <th>1</th>\n",
       "      <td>- 00007P13 \\n \\nNSW Electoral Commission \\n Th...</td>\n",
       "    </tr>\n",
       "    <tr>\n",
       "      <th>2</th>\n",
       "      <td>Bachelor's or Master’s degree in Reliability E...</td>\n",
       "    </tr>\n",
       "    <tr>\n",
       "      <th>3</th>\n",
       "      <td>As a Business Analyst you will work with the g...</td>\n",
       "    </tr>\n",
       "    <tr>\n",
       "      <th>4</th>\n",
       "      <td>Salary packaging - to suit your personal and f...</td>\n",
       "    </tr>\n",
       "  </tbody>\n",
       "</table>\n",
       "</div>"
      ],
      "text/plain": [
       "                                         description\n",
       "0  Company Description \\n \\nWho we are \\nAt Leido...\n",
       "1  - 00007P13 \\n \\nNSW Electoral Commission \\n Th...\n",
       "2  Bachelor's or Master’s degree in Reliability E...\n",
       "3  As a Business Analyst you will work with the g...\n",
       "4  Salary packaging - to suit your personal and f..."
      ]
     },
     "execution_count": 7,
     "metadata": {},
     "output_type": "execute_result"
    }
   ],
   "source": [
    "X_train.head()"
   ]
  },
  {
   "cell_type": "markdown",
   "metadata": {
    "Collapsed": "false"
   },
   "source": [
    "### Feature Engineering\n",
    "---"
   ]
  },
  {
   "cell_type": "markdown",
   "metadata": {
    "Collapsed": "false"
   },
   "source": [
    "#### pd.getdummies()\n",
    "---"
   ]
  },
  {
   "cell_type": "markdown",
   "metadata": {
    "Collapsed": "false"
   },
   "source": [
    "#### Vectorising Description\n",
    "---"
   ]
  },
  {
   "cell_type": "code",
   "execution_count": 42,
   "metadata": {
    "Collapsed": "false"
   },
   "outputs": [
    {
     "data": {
      "text/html": [
       "<div>\n",
       "<style scoped>\n",
       "    .dataframe tbody tr th:only-of-type {\n",
       "        vertical-align: middle;\n",
       "    }\n",
       "\n",
       "    .dataframe tbody tr th {\n",
       "        vertical-align: top;\n",
       "    }\n",
       "\n",
       "    .dataframe thead th {\n",
       "        text-align: right;\n",
       "    }\n",
       "</style>\n",
       "<table border=\"1\" class=\"dataframe\">\n",
       "  <thead>\n",
       "    <tr style=\"text-align: right;\">\n",
       "      <th></th>\n",
       "      <th>00</th>\n",
       "      <th>000</th>\n",
       "      <th>12</th>\n",
       "      <th>2020</th>\n",
       "      <th>ability</th>\n",
       "      <th>ability work</th>\n",
       "      <th>able</th>\n",
       "      <th>access</th>\n",
       "      <th>achieve</th>\n",
       "      <th>activities</th>\n",
       "      <th>...</th>\n",
       "      <th>workforce</th>\n",
       "      <th>working</th>\n",
       "      <th>workplace</th>\n",
       "      <th>world</th>\n",
       "      <th>writing</th>\n",
       "      <th>written</th>\n",
       "      <th>www</th>\n",
       "      <th>year</th>\n",
       "      <th>years</th>\n",
       "      <th>years experience</th>\n",
       "    </tr>\n",
       "  </thead>\n",
       "  <tbody>\n",
       "    <tr>\n",
       "      <th>0</th>\n",
       "      <td>0</td>\n",
       "      <td>0</td>\n",
       "      <td>3</td>\n",
       "      <td>0</td>\n",
       "      <td>1</td>\n",
       "      <td>0</td>\n",
       "      <td>2</td>\n",
       "      <td>1</td>\n",
       "      <td>0</td>\n",
       "      <td>2</td>\n",
       "      <td>...</td>\n",
       "      <td>0</td>\n",
       "      <td>1</td>\n",
       "      <td>0</td>\n",
       "      <td>1</td>\n",
       "      <td>0</td>\n",
       "      <td>0</td>\n",
       "      <td>0</td>\n",
       "      <td>0</td>\n",
       "      <td>0</td>\n",
       "      <td>0</td>\n",
       "    </tr>\n",
       "    <tr>\n",
       "      <th>1</th>\n",
       "      <td>0</td>\n",
       "      <td>0</td>\n",
       "      <td>0</td>\n",
       "      <td>2</td>\n",
       "      <td>0</td>\n",
       "      <td>0</td>\n",
       "      <td>0</td>\n",
       "      <td>0</td>\n",
       "      <td>1</td>\n",
       "      <td>1</td>\n",
       "      <td>...</td>\n",
       "      <td>3</td>\n",
       "      <td>0</td>\n",
       "      <td>0</td>\n",
       "      <td>0</td>\n",
       "      <td>0</td>\n",
       "      <td>0</td>\n",
       "      <td>0</td>\n",
       "      <td>0</td>\n",
       "      <td>0</td>\n",
       "      <td>0</td>\n",
       "    </tr>\n",
       "    <tr>\n",
       "      <th>2</th>\n",
       "      <td>0</td>\n",
       "      <td>0</td>\n",
       "      <td>0</td>\n",
       "      <td>0</td>\n",
       "      <td>1</td>\n",
       "      <td>0</td>\n",
       "      <td>3</td>\n",
       "      <td>0</td>\n",
       "      <td>0</td>\n",
       "      <td>1</td>\n",
       "      <td>...</td>\n",
       "      <td>0</td>\n",
       "      <td>1</td>\n",
       "      <td>0</td>\n",
       "      <td>0</td>\n",
       "      <td>0</td>\n",
       "      <td>1</td>\n",
       "      <td>0</td>\n",
       "      <td>0</td>\n",
       "      <td>2</td>\n",
       "      <td>0</td>\n",
       "    </tr>\n",
       "    <tr>\n",
       "      <th>3</th>\n",
       "      <td>0</td>\n",
       "      <td>1</td>\n",
       "      <td>0</td>\n",
       "      <td>0</td>\n",
       "      <td>0</td>\n",
       "      <td>0</td>\n",
       "      <td>0</td>\n",
       "      <td>1</td>\n",
       "      <td>2</td>\n",
       "      <td>0</td>\n",
       "      <td>...</td>\n",
       "      <td>0</td>\n",
       "      <td>0</td>\n",
       "      <td>0</td>\n",
       "      <td>1</td>\n",
       "      <td>0</td>\n",
       "      <td>0</td>\n",
       "      <td>1</td>\n",
       "      <td>0</td>\n",
       "      <td>0</td>\n",
       "      <td>0</td>\n",
       "    </tr>\n",
       "    <tr>\n",
       "      <th>4</th>\n",
       "      <td>0</td>\n",
       "      <td>0</td>\n",
       "      <td>0</td>\n",
       "      <td>0</td>\n",
       "      <td>0</td>\n",
       "      <td>0</td>\n",
       "      <td>0</td>\n",
       "      <td>0</td>\n",
       "      <td>1</td>\n",
       "      <td>0</td>\n",
       "      <td>...</td>\n",
       "      <td>0</td>\n",
       "      <td>1</td>\n",
       "      <td>0</td>\n",
       "      <td>2</td>\n",
       "      <td>0</td>\n",
       "      <td>0</td>\n",
       "      <td>0</td>\n",
       "      <td>0</td>\n",
       "      <td>1</td>\n",
       "      <td>0</td>\n",
       "    </tr>\n",
       "    <tr>\n",
       "      <th>...</th>\n",
       "      <td>...</td>\n",
       "      <td>...</td>\n",
       "      <td>...</td>\n",
       "      <td>...</td>\n",
       "      <td>...</td>\n",
       "      <td>...</td>\n",
       "      <td>...</td>\n",
       "      <td>...</td>\n",
       "      <td>...</td>\n",
       "      <td>...</td>\n",
       "      <td>...</td>\n",
       "      <td>...</td>\n",
       "      <td>...</td>\n",
       "      <td>...</td>\n",
       "      <td>...</td>\n",
       "      <td>...</td>\n",
       "      <td>...</td>\n",
       "      <td>...</td>\n",
       "      <td>...</td>\n",
       "      <td>...</td>\n",
       "      <td>...</td>\n",
       "    </tr>\n",
       "    <tr>\n",
       "      <th>327</th>\n",
       "      <td>0</td>\n",
       "      <td>0</td>\n",
       "      <td>0</td>\n",
       "      <td>0</td>\n",
       "      <td>1</td>\n",
       "      <td>0</td>\n",
       "      <td>0</td>\n",
       "      <td>0</td>\n",
       "      <td>0</td>\n",
       "      <td>0</td>\n",
       "      <td>...</td>\n",
       "      <td>0</td>\n",
       "      <td>1</td>\n",
       "      <td>0</td>\n",
       "      <td>0</td>\n",
       "      <td>0</td>\n",
       "      <td>1</td>\n",
       "      <td>0</td>\n",
       "      <td>0</td>\n",
       "      <td>1</td>\n",
       "      <td>1</td>\n",
       "    </tr>\n",
       "    <tr>\n",
       "      <th>328</th>\n",
       "      <td>0</td>\n",
       "      <td>0</td>\n",
       "      <td>0</td>\n",
       "      <td>0</td>\n",
       "      <td>0</td>\n",
       "      <td>0</td>\n",
       "      <td>1</td>\n",
       "      <td>0</td>\n",
       "      <td>0</td>\n",
       "      <td>0</td>\n",
       "      <td>...</td>\n",
       "      <td>0</td>\n",
       "      <td>0</td>\n",
       "      <td>0</td>\n",
       "      <td>0</td>\n",
       "      <td>0</td>\n",
       "      <td>0</td>\n",
       "      <td>0</td>\n",
       "      <td>0</td>\n",
       "      <td>0</td>\n",
       "      <td>0</td>\n",
       "    </tr>\n",
       "    <tr>\n",
       "      <th>329</th>\n",
       "      <td>0</td>\n",
       "      <td>0</td>\n",
       "      <td>0</td>\n",
       "      <td>0</td>\n",
       "      <td>0</td>\n",
       "      <td>0</td>\n",
       "      <td>1</td>\n",
       "      <td>0</td>\n",
       "      <td>0</td>\n",
       "      <td>1</td>\n",
       "      <td>...</td>\n",
       "      <td>0</td>\n",
       "      <td>1</td>\n",
       "      <td>0</td>\n",
       "      <td>0</td>\n",
       "      <td>0</td>\n",
       "      <td>0</td>\n",
       "      <td>1</td>\n",
       "      <td>0</td>\n",
       "      <td>0</td>\n",
       "      <td>0</td>\n",
       "    </tr>\n",
       "    <tr>\n",
       "      <th>330</th>\n",
       "      <td>0</td>\n",
       "      <td>2</td>\n",
       "      <td>2</td>\n",
       "      <td>0</td>\n",
       "      <td>0</td>\n",
       "      <td>0</td>\n",
       "      <td>0</td>\n",
       "      <td>2</td>\n",
       "      <td>0</td>\n",
       "      <td>0</td>\n",
       "      <td>...</td>\n",
       "      <td>0</td>\n",
       "      <td>0</td>\n",
       "      <td>0</td>\n",
       "      <td>4</td>\n",
       "      <td>0</td>\n",
       "      <td>0</td>\n",
       "      <td>0</td>\n",
       "      <td>0</td>\n",
       "      <td>1</td>\n",
       "      <td>0</td>\n",
       "    </tr>\n",
       "    <tr>\n",
       "      <th>331</th>\n",
       "      <td>0</td>\n",
       "      <td>0</td>\n",
       "      <td>0</td>\n",
       "      <td>0</td>\n",
       "      <td>0</td>\n",
       "      <td>0</td>\n",
       "      <td>0</td>\n",
       "      <td>1</td>\n",
       "      <td>0</td>\n",
       "      <td>0</td>\n",
       "      <td>...</td>\n",
       "      <td>0</td>\n",
       "      <td>4</td>\n",
       "      <td>0</td>\n",
       "      <td>0</td>\n",
       "      <td>0</td>\n",
       "      <td>0</td>\n",
       "      <td>0</td>\n",
       "      <td>0</td>\n",
       "      <td>0</td>\n",
       "      <td>0</td>\n",
       "    </tr>\n",
       "  </tbody>\n",
       "</table>\n",
       "<p>332 rows × 521 columns</p>\n",
       "</div>"
      ],
      "text/plain": [
       "     00  000  12  2020  ability  ability work  able  access  achieve  \\\n",
       "0     0    0   3     0        1             0     2       1        0   \n",
       "1     0    0   0     2        0             0     0       0        1   \n",
       "2     0    0   0     0        1             0     3       0        0   \n",
       "3     0    1   0     0        0             0     0       1        2   \n",
       "4     0    0   0     0        0             0     0       0        1   \n",
       "..   ..  ...  ..   ...      ...           ...   ...     ...      ...   \n",
       "327   0    0   0     0        1             0     0       0        0   \n",
       "328   0    0   0     0        0             0     1       0        0   \n",
       "329   0    0   0     0        0             0     1       0        0   \n",
       "330   0    2   2     0        0             0     0       2        0   \n",
       "331   0    0   0     0        0             0     0       1        0   \n",
       "\n",
       "     activities  ...  workforce  working  workplace  world  writing  written  \\\n",
       "0             2  ...          0        1          0      1        0        0   \n",
       "1             1  ...          3        0          0      0        0        0   \n",
       "2             1  ...          0        1          0      0        0        1   \n",
       "3             0  ...          0        0          0      1        0        0   \n",
       "4             0  ...          0        1          0      2        0        0   \n",
       "..          ...  ...        ...      ...        ...    ...      ...      ...   \n",
       "327           0  ...          0        1          0      0        0        1   \n",
       "328           0  ...          0        0          0      0        0        0   \n",
       "329           1  ...          0        1          0      0        0        0   \n",
       "330           0  ...          0        0          0      4        0        0   \n",
       "331           0  ...          0        4          0      0        0        0   \n",
       "\n",
       "     www  year  years  years experience  \n",
       "0      0     0      0                 0  \n",
       "1      0     0      0                 0  \n",
       "2      0     0      2                 0  \n",
       "3      1     0      0                 0  \n",
       "4      0     0      1                 0  \n",
       "..   ...   ...    ...               ...  \n",
       "327    0     0      1                 1  \n",
       "328    0     0      0                 0  \n",
       "329    1     0      0                 0  \n",
       "330    0     0      1                 0  \n",
       "331    0     0      0                 0  \n",
       "\n",
       "[332 rows x 521 columns]"
      ]
     },
     "execution_count": 42,
     "metadata": {},
     "output_type": "execute_result"
    }
   ],
   "source": [
    "from sklearn.feature_extraction.text import CountVectorizer\n",
    "\n",
    "cv = CountVectorizer(min_df=.1,max_df=.95,stop_words='english',ngram_range=(1,2))\n",
    "cv_description_train = cv.fit_transform(X_train['description']).todense()\n",
    "cv_description_train = pd.DataFrame(cv_description_train,columns=cv.get_feature_names())\n",
    "cv_description_train"
   ]
  },
  {
   "cell_type": "code",
   "execution_count": 43,
   "metadata": {
    "Collapsed": "false"
   },
   "outputs": [],
   "source": [
    "# transforming for test set\n",
    "cv_description_test = cv.transform(X_test['description']).toarray()\n",
    "cv_description_test = pd.DataFrame(cv_description_test,columns=['description_'+i for i in cv.get_feature_names()])"
   ]
  },
  {
   "cell_type": "code",
   "execution_count": 44,
   "metadata": {
    "Collapsed": "false"
   },
   "outputs": [
    {
     "name": "stdout",
     "output_type": "stream",
     "text": [
      "(332, 1) (84, 1)\n"
     ]
    }
   ],
   "source": [
    "print(X_train.shape,X_test.shape)"
   ]
  },
  {
   "cell_type": "markdown",
   "metadata": {
    "Collapsed": "false"
   },
   "source": [
    "## Predicting job titles model: Logistic Regression \n",
    "---\n",
    "Method:\n",
    "1. The target is the search_title\n",
    "2. Train test split\n",
    "3. Vectorise job_title and description\n",
    "4. pd.getdummies for categorical variables \n",
    "5. CV"
   ]
  },
  {
   "cell_type": "code",
   "execution_count": 45,
   "metadata": {
    "Collapsed": "false"
   },
   "outputs": [
    {
     "data": {
      "text/html": [
       "<div>\n",
       "<style scoped>\n",
       "    .dataframe tbody tr th:only-of-type {\n",
       "        vertical-align: middle;\n",
       "    }\n",
       "\n",
       "    .dataframe tbody tr th {\n",
       "        vertical-align: top;\n",
       "    }\n",
       "\n",
       "    .dataframe thead th {\n",
       "        text-align: right;\n",
       "    }\n",
       "</style>\n",
       "<table border=\"1\" class=\"dataframe\">\n",
       "  <thead>\n",
       "    <tr style=\"text-align: right;\">\n",
       "      <th></th>\n",
       "      <th>search_title</th>\n",
       "      <th>job_title</th>\n",
       "      <th>company</th>\n",
       "      <th>location</th>\n",
       "      <th>salary</th>\n",
       "      <th>description</th>\n",
       "      <th>job_url_result</th>\n",
       "    </tr>\n",
       "  </thead>\n",
       "  <tbody>\n",
       "    <tr>\n",
       "      <th>0</th>\n",
       "      <td>data analyst</td>\n",
       "      <td>Data Governance Analyst</td>\n",
       "      <td>Genworth</td>\n",
       "      <td>NSW other</td>\n",
       "      <td>NaN</td>\n",
       "      <td>Summary \\nThe Data Governance Analyst is accou...</td>\n",
       "      <td>http://au.indeed.com/pagead/clk?mo=r&amp;ad=-6NYlb...</td>\n",
       "    </tr>\n",
       "    <tr>\n",
       "      <th>1</th>\n",
       "      <td>data analyst</td>\n",
       "      <td>People Systems Data Reporting Analyst</td>\n",
       "      <td>Lion</td>\n",
       "      <td>NSW other</td>\n",
       "      <td>NaN</td>\n",
       "      <td>We have an exciting opportunity for an experie...</td>\n",
       "      <td>http://au.indeed.com/pagead/clk?mo=r&amp;ad=-6NYlb...</td>\n",
       "    </tr>\n",
       "    <tr>\n",
       "      <th>2</th>\n",
       "      <td>data analyst</td>\n",
       "      <td>Junior Data Analyst/Scientist</td>\n",
       "      <td>International Institute of Data &amp; Analytics</td>\n",
       "      <td>NSW other</td>\n",
       "      <td>NaN</td>\n",
       "      <td>The International Institute of Data &amp; Analytic...</td>\n",
       "      <td>http://au.indeed.com/rc/clk?jk=5c172b03ffbfed1...</td>\n",
       "    </tr>\n",
       "    <tr>\n",
       "      <th>3</th>\n",
       "      <td>data scientist</td>\n",
       "      <td>Junior Data Analyst/Scientist</td>\n",
       "      <td>International Institute of Data &amp; Analytics</td>\n",
       "      <td>NSW other</td>\n",
       "      <td>NaN</td>\n",
       "      <td>The International Institute of Data &amp; Analytic...</td>\n",
       "      <td>http://au.indeed.com/rc/clk?jk=5c172b03ffbfed1...</td>\n",
       "    </tr>\n",
       "    <tr>\n",
       "      <th>4</th>\n",
       "      <td>data analyst</td>\n",
       "      <td>Data &amp; Visualisation Analyst</td>\n",
       "      <td>HSBC</td>\n",
       "      <td>NSW other</td>\n",
       "      <td>NaN</td>\n",
       "      <td>Some careers have more impact than others. \\n ...</td>\n",
       "      <td>http://au.indeed.com/rc/clk?jk=e82ccf3d08dce7d...</td>\n",
       "    </tr>\n",
       "  </tbody>\n",
       "</table>\n",
       "</div>"
      ],
      "text/plain": [
       "     search_title                              job_title  \\\n",
       "0    data analyst                Data Governance Analyst   \n",
       "1    data analyst  People Systems Data Reporting Analyst   \n",
       "2    data analyst          Junior Data Analyst/Scientist   \n",
       "3  data scientist          Junior Data Analyst/Scientist   \n",
       "4    data analyst           Data & Visualisation Analyst   \n",
       "\n",
       "                                       company   location salary  \\\n",
       "0                                     Genworth  NSW other    NaN   \n",
       "1                                         Lion  NSW other    NaN   \n",
       "2  International Institute of Data & Analytics  NSW other    NaN   \n",
       "3  International Institute of Data & Analytics  NSW other    NaN   \n",
       "4                                         HSBC  NSW other    NaN   \n",
       "\n",
       "                                         description  \\\n",
       "0  Summary \\nThe Data Governance Analyst is accou...   \n",
       "1  We have an exciting opportunity for an experie...   \n",
       "2  The International Institute of Data & Analytic...   \n",
       "3  The International Institute of Data & Analytic...   \n",
       "4  Some careers have more impact than others. \\n ...   \n",
       "\n",
       "                                      job_url_result  \n",
       "0  http://au.indeed.com/pagead/clk?mo=r&ad=-6NYlb...  \n",
       "1  http://au.indeed.com/pagead/clk?mo=r&ad=-6NYlb...  \n",
       "2  http://au.indeed.com/rc/clk?jk=5c172b03ffbfed1...  \n",
       "3  http://au.indeed.com/rc/clk?jk=5c172b03ffbfed1...  \n",
       "4  http://au.indeed.com/rc/clk?jk=e82ccf3d08dce7d...  "
      ]
     },
     "execution_count": 45,
     "metadata": {},
     "output_type": "execute_result"
    }
   ],
   "source": [
    "sr.head()"
   ]
  },
  {
   "cell_type": "code",
   "execution_count": 46,
   "metadata": {
    "Collapsed": "false"
   },
   "outputs": [],
   "source": [
    "y_lr_train = sr.loc[y_train.index,'search_title']\n",
    "y_lr_test = sr.loc[y_test.index,'search_title']"
   ]
  },
  {
   "cell_type": "code",
   "execution_count": 47,
   "metadata": {
    "Collapsed": "false"
   },
   "outputs": [
    {
     "name": "stdout",
     "output_type": "stream",
     "text": [
      "[0.73134328 0.68656716 0.83333333 0.77272727 0.87878788]\n",
      "0.7805517865219358 0.06892318988862163\n"
     ]
    }
   ],
   "source": [
    "from sklearn.linear_model import LogisticRegression\n",
    "from sklearn.model_selection import cross_val_score\n",
    "\n",
    "logr = LogisticRegression(max_iter=5000)\n",
    "scores = cross_val_score(logr, cv_description_train, y_lr_train, cv=5, n_jobs=-1)\n",
    "print(scores)\n",
    "print(np.mean(scores),np.std(scores))"
   ]
  },
  {
   "cell_type": "code",
   "execution_count": 48,
   "metadata": {
    "Collapsed": "false"
   },
   "outputs": [
    {
     "data": {
      "text/plain": [
       "business analyst    204\n",
       "data analyst         81\n",
       "data engineer        77\n",
       "data scientist       54\n",
       "Name: search_title, dtype: int64"
      ]
     },
     "execution_count": 48,
     "metadata": {},
     "output_type": "execute_result"
    }
   ],
   "source": [
    "sr['search_title'].value_counts()"
   ]
  },
  {
   "cell_type": "code",
   "execution_count": 49,
   "metadata": {
    "Collapsed": "false"
   },
   "outputs": [
    {
     "data": {
      "text/plain": [
       "0.49038461538461536"
      ]
     },
     "execution_count": 49,
     "metadata": {},
     "output_type": "execute_result"
    }
   ],
   "source": [
    "# Baseline\n",
    "sr['search_title'].value_counts()[0]/len(sr['search_title'])"
   ]
  },
  {
   "cell_type": "code",
   "execution_count": 50,
   "metadata": {
    "Collapsed": "false"
   },
   "outputs": [
    {
     "name": "stdout",
     "output_type": "stream",
     "text": [
      "0.9728915662650602\n",
      "0.8095238095238095\n"
     ]
    }
   ],
   "source": [
    "# Accuracy on test set\n",
    "logr.fit(cv_description_train,y_lr_train)\n",
    "print(logr.score(cv_description_train, y_lr_train))\n",
    "print(logr.score(cv_description_test,y_lr_test))"
   ]
  },
  {
   "cell_type": "code",
   "execution_count": 51,
   "metadata": {
    "Collapsed": "false"
   },
   "outputs": [
    {
     "data": {
      "text/html": [
       "<div>\n",
       "<style scoped>\n",
       "    .dataframe tbody tr th:only-of-type {\n",
       "        vertical-align: middle;\n",
       "    }\n",
       "\n",
       "    .dataframe tbody tr th {\n",
       "        vertical-align: top;\n",
       "    }\n",
       "\n",
       "    .dataframe thead th {\n",
       "        text-align: right;\n",
       "    }\n",
       "</style>\n",
       "<table border=\"1\" class=\"dataframe\">\n",
       "  <thead>\n",
       "    <tr style=\"text-align: right;\">\n",
       "      <th></th>\n",
       "      <th>features</th>\n",
       "      <th>business analyst</th>\n",
       "      <th>data analyst</th>\n",
       "      <th>data engineer</th>\n",
       "      <th>data scientist</th>\n",
       "    </tr>\n",
       "  </thead>\n",
       "  <tbody>\n",
       "    <tr>\n",
       "      <th>0</th>\n",
       "      <td>00</td>\n",
       "      <td>-0.048341</td>\n",
       "      <td>0.073366</td>\n",
       "      <td>0.006808</td>\n",
       "      <td>-0.031833</td>\n",
       "    </tr>\n",
       "    <tr>\n",
       "      <th>1</th>\n",
       "      <td>000</td>\n",
       "      <td>0.017498</td>\n",
       "      <td>-0.041137</td>\n",
       "      <td>-0.076036</td>\n",
       "      <td>0.099674</td>\n",
       "    </tr>\n",
       "    <tr>\n",
       "      <th>2</th>\n",
       "      <td>12</td>\n",
       "      <td>0.031608</td>\n",
       "      <td>-0.131745</td>\n",
       "      <td>-0.007806</td>\n",
       "      <td>0.107944</td>\n",
       "    </tr>\n",
       "    <tr>\n",
       "      <th>3</th>\n",
       "      <td>2020</td>\n",
       "      <td>-0.196014</td>\n",
       "      <td>0.223402</td>\n",
       "      <td>-0.108475</td>\n",
       "      <td>0.081087</td>\n",
       "    </tr>\n",
       "    <tr>\n",
       "      <th>4</th>\n",
       "      <td>ability</td>\n",
       "      <td>-0.100294</td>\n",
       "      <td>-0.060249</td>\n",
       "      <td>0.037967</td>\n",
       "      <td>0.122576</td>\n",
       "    </tr>\n",
       "  </tbody>\n",
       "</table>\n",
       "</div>"
      ],
      "text/plain": [
       "  features  business analyst  data analyst  data engineer  data scientist\n",
       "0       00         -0.048341      0.073366       0.006808       -0.031833\n",
       "1      000          0.017498     -0.041137      -0.076036        0.099674\n",
       "2       12          0.031608     -0.131745      -0.007806        0.107944\n",
       "3     2020         -0.196014      0.223402      -0.108475        0.081087\n",
       "4  ability         -0.100294     -0.060249       0.037967        0.122576"
      ]
     },
     "execution_count": 51,
     "metadata": {},
     "output_type": "execute_result"
    }
   ],
   "source": [
    "# Using the features find out the weight strength\n",
    "logr_coefs = pd.DataFrame(logr.coef_,columns=cv_description_train.columns,index=['business analyst','data analyst','data engineer','data scientist']).T\n",
    "logr_coefs = logr_coefs.reset_index().rename(columns={'index':'features'})\n",
    "logr_coefs.head()"
   ]
  },
  {
   "cell_type": "code",
   "execution_count": 52,
   "metadata": {
    "Collapsed": "false"
   },
   "outputs": [],
   "source": [
    "# Create an absolute value column for each label\n",
    "for i in logr_coefs.columns[1:]:\n",
    "    logr_coefs['abs ' + i] = logr_coefs[i].apply(np.abs)"
   ]
  },
  {
   "cell_type": "code",
   "execution_count": 53,
   "metadata": {
    "Collapsed": "false"
   },
   "outputs": [],
   "source": [
    "# Save results\n",
    "logr_coefs.to_csv('Data/logr_coefs.csv',index=False)"
   ]
  },
  {
   "cell_type": "code",
   "execution_count": 54,
   "metadata": {
    "Collapsed": "false"
   },
   "outputs": [
    {
     "data": {
      "text/html": [
       "<div>\n",
       "<style scoped>\n",
       "    .dataframe tbody tr th:only-of-type {\n",
       "        vertical-align: middle;\n",
       "    }\n",
       "\n",
       "    .dataframe tbody tr th {\n",
       "        vertical-align: top;\n",
       "    }\n",
       "\n",
       "    .dataframe thead th {\n",
       "        text-align: right;\n",
       "    }\n",
       "</style>\n",
       "<table border=\"1\" class=\"dataframe\">\n",
       "  <thead>\n",
       "    <tr style=\"text-align: right;\">\n",
       "      <th></th>\n",
       "      <th>features</th>\n",
       "      <th>business analyst</th>\n",
       "      <th>data analyst</th>\n",
       "      <th>data engineer</th>\n",
       "      <th>data scientist</th>\n",
       "      <th>abs business analyst</th>\n",
       "      <th>abs data analyst</th>\n",
       "      <th>abs data engineer</th>\n",
       "      <th>abs data scientist</th>\n",
       "    </tr>\n",
       "  </thead>\n",
       "  <tbody>\n",
       "    <tr>\n",
       "      <th>0</th>\n",
       "      <td>00</td>\n",
       "      <td>-0.048341</td>\n",
       "      <td>0.073366</td>\n",
       "      <td>0.006808</td>\n",
       "      <td>-0.031833</td>\n",
       "      <td>0.048341</td>\n",
       "      <td>0.073366</td>\n",
       "      <td>0.006808</td>\n",
       "      <td>0.031833</td>\n",
       "    </tr>\n",
       "    <tr>\n",
       "      <th>1</th>\n",
       "      <td>000</td>\n",
       "      <td>0.017498</td>\n",
       "      <td>-0.041137</td>\n",
       "      <td>-0.076036</td>\n",
       "      <td>0.099674</td>\n",
       "      <td>0.017498</td>\n",
       "      <td>0.041137</td>\n",
       "      <td>0.076036</td>\n",
       "      <td>0.099674</td>\n",
       "    </tr>\n",
       "    <tr>\n",
       "      <th>2</th>\n",
       "      <td>12</td>\n",
       "      <td>0.031608</td>\n",
       "      <td>-0.131745</td>\n",
       "      <td>-0.007806</td>\n",
       "      <td>0.107944</td>\n",
       "      <td>0.031608</td>\n",
       "      <td>0.131745</td>\n",
       "      <td>0.007806</td>\n",
       "      <td>0.107944</td>\n",
       "    </tr>\n",
       "    <tr>\n",
       "      <th>3</th>\n",
       "      <td>2020</td>\n",
       "      <td>-0.196014</td>\n",
       "      <td>0.223402</td>\n",
       "      <td>-0.108475</td>\n",
       "      <td>0.081087</td>\n",
       "      <td>0.196014</td>\n",
       "      <td>0.223402</td>\n",
       "      <td>0.108475</td>\n",
       "      <td>0.081087</td>\n",
       "    </tr>\n",
       "    <tr>\n",
       "      <th>4</th>\n",
       "      <td>ability</td>\n",
       "      <td>-0.100294</td>\n",
       "      <td>-0.060249</td>\n",
       "      <td>0.037967</td>\n",
       "      <td>0.122576</td>\n",
       "      <td>0.100294</td>\n",
       "      <td>0.060249</td>\n",
       "      <td>0.037967</td>\n",
       "      <td>0.122576</td>\n",
       "    </tr>\n",
       "  </tbody>\n",
       "</table>\n",
       "</div>"
      ],
      "text/plain": [
       "  features  business analyst  data analyst  data engineer  data scientist  \\\n",
       "0       00         -0.048341      0.073366       0.006808       -0.031833   \n",
       "1      000          0.017498     -0.041137      -0.076036        0.099674   \n",
       "2       12          0.031608     -0.131745      -0.007806        0.107944   \n",
       "3     2020         -0.196014      0.223402      -0.108475        0.081087   \n",
       "4  ability         -0.100294     -0.060249       0.037967        0.122576   \n",
       "\n",
       "   abs business analyst  abs data analyst  abs data engineer  \\\n",
       "0              0.048341          0.073366           0.006808   \n",
       "1              0.017498          0.041137           0.076036   \n",
       "2              0.031608          0.131745           0.007806   \n",
       "3              0.196014          0.223402           0.108475   \n",
       "4              0.100294          0.060249           0.037967   \n",
       "\n",
       "   abs data scientist  \n",
       "0            0.031833  \n",
       "1            0.099674  \n",
       "2            0.107944  \n",
       "3            0.081087  \n",
       "4            0.122576  "
      ]
     },
     "execution_count": 54,
     "metadata": {},
     "output_type": "execute_result"
    }
   ],
   "source": [
    "# Load results\n",
    "logr_coefs = pd.read_csv('Data/logr_coefs.csv')\n",
    "logr_coefs.head()"
   ]
  },
  {
   "cell_type": "markdown",
   "metadata": {
    "Collapsed": "false"
   },
   "source": [
    "### Results"
   ]
  },
  {
   "cell_type": "code",
   "execution_count": 128,
   "metadata": {
    "Collapsed": "false"
   },
   "outputs": [
    {
     "data": {
      "text/html": [
       "<div>\n",
       "<style scoped>\n",
       "    .dataframe tbody tr th:only-of-type {\n",
       "        vertical-align: middle;\n",
       "    }\n",
       "\n",
       "    .dataframe tbody tr th {\n",
       "        vertical-align: top;\n",
       "    }\n",
       "\n",
       "    .dataframe thead th {\n",
       "        text-align: right;\n",
       "    }\n",
       "</style>\n",
       "<table border=\"1\" class=\"dataframe\">\n",
       "  <thead>\n",
       "    <tr style=\"text-align: right;\">\n",
       "      <th></th>\n",
       "      <th>features</th>\n",
       "      <th>business analyst</th>\n",
       "      <th>abs business analyst</th>\n",
       "    </tr>\n",
       "  </thead>\n",
       "  <tbody>\n",
       "    <tr>\n",
       "      <th>55</th>\n",
       "      <td>business</td>\n",
       "      <td>0.704219</td>\n",
       "      <td>0.704219</td>\n",
       "    </tr>\n",
       "    <tr>\n",
       "      <th>119</th>\n",
       "      <td>data</td>\n",
       "      <td>-0.413316</td>\n",
       "      <td>0.413316</td>\n",
       "    </tr>\n",
       "    <tr>\n",
       "      <th>404</th>\n",
       "      <td>report</td>\n",
       "      <td>0.402700</td>\n",
       "      <td>0.402700</td>\n",
       "    </tr>\n",
       "    <tr>\n",
       "      <th>57</th>\n",
       "      <td>business analyst</td>\n",
       "      <td>0.311269</td>\n",
       "      <td>0.311269</td>\n",
       "    </tr>\n",
       "    <tr>\n",
       "      <th>393</th>\n",
       "      <td>python</td>\n",
       "      <td>-0.307629</td>\n",
       "      <td>0.307629</td>\n",
       "    </tr>\n",
       "    <tr>\n",
       "      <th>422</th>\n",
       "      <td>science</td>\n",
       "      <td>-0.275899</td>\n",
       "      <td>0.275899</td>\n",
       "    </tr>\n",
       "    <tr>\n",
       "      <th>143</th>\n",
       "      <td>develop</td>\n",
       "      <td>-0.267714</td>\n",
       "      <td>0.267714</td>\n",
       "    </tr>\n",
       "    <tr>\n",
       "      <th>20</th>\n",
       "      <td>analytics</td>\n",
       "      <td>-0.264948</td>\n",
       "      <td>0.264948</td>\n",
       "    </tr>\n",
       "    <tr>\n",
       "      <th>43</th>\n",
       "      <td>based</td>\n",
       "      <td>0.264631</td>\n",
       "      <td>0.264631</td>\n",
       "    </tr>\n",
       "    <tr>\n",
       "      <th>519</th>\n",
       "      <td>years</td>\n",
       "      <td>0.235862</td>\n",
       "      <td>0.235862</td>\n",
       "    </tr>\n",
       "    <tr>\n",
       "      <th>392</th>\n",
       "      <td>providing</td>\n",
       "      <td>0.234739</td>\n",
       "      <td>0.234739</td>\n",
       "    </tr>\n",
       "    <tr>\n",
       "      <th>54</th>\n",
       "      <td>building</td>\n",
       "      <td>0.234165</td>\n",
       "      <td>0.234165</td>\n",
       "    </tr>\n",
       "    <tr>\n",
       "      <th>358</th>\n",
       "      <td>permanent</td>\n",
       "      <td>0.230421</td>\n",
       "      <td>0.230421</td>\n",
       "    </tr>\n",
       "    <tr>\n",
       "      <th>408</th>\n",
       "      <td>requirements</td>\n",
       "      <td>0.226980</td>\n",
       "      <td>0.226980</td>\n",
       "    </tr>\n",
       "    <tr>\n",
       "      <th>87</th>\n",
       "      <td>communication</td>\n",
       "      <td>0.205953</td>\n",
       "      <td>0.205953</td>\n",
       "    </tr>\n",
       "    <tr>\n",
       "      <th>497</th>\n",
       "      <td>using</td>\n",
       "      <td>-0.200214</td>\n",
       "      <td>0.200214</td>\n",
       "    </tr>\n",
       "    <tr>\n",
       "      <th>47</th>\n",
       "      <td>best</td>\n",
       "      <td>-0.199424</td>\n",
       "      <td>0.199424</td>\n",
       "    </tr>\n",
       "    <tr>\n",
       "      <th>515</th>\n",
       "      <td>writing</td>\n",
       "      <td>0.198036</td>\n",
       "      <td>0.198036</td>\n",
       "    </tr>\n",
       "    <tr>\n",
       "      <th>58</th>\n",
       "      <td>business intelligence</td>\n",
       "      <td>0.196768</td>\n",
       "      <td>0.196768</td>\n",
       "    </tr>\n",
       "    <tr>\n",
       "      <th>3</th>\n",
       "      <td>2020</td>\n",
       "      <td>-0.196014</td>\n",
       "      <td>0.196014</td>\n",
       "    </tr>\n",
       "  </tbody>\n",
       "</table>\n",
       "</div>"
      ],
      "text/plain": [
       "                  features  business analyst  abs business analyst\n",
       "55                business          0.704219              0.704219\n",
       "119                   data         -0.413316              0.413316\n",
       "404                 report          0.402700              0.402700\n",
       "57        business analyst          0.311269              0.311269\n",
       "393                 python         -0.307629              0.307629\n",
       "422                science         -0.275899              0.275899\n",
       "143                develop         -0.267714              0.267714\n",
       "20               analytics         -0.264948              0.264948\n",
       "43                   based          0.264631              0.264631\n",
       "519                  years          0.235862              0.235862\n",
       "392              providing          0.234739              0.234739\n",
       "54                building          0.234165              0.234165\n",
       "358              permanent          0.230421              0.230421\n",
       "408           requirements          0.226980              0.226980\n",
       "87           communication          0.205953              0.205953\n",
       "497                  using         -0.200214              0.200214\n",
       "47                    best         -0.199424              0.199424\n",
       "515                writing          0.198036              0.198036\n",
       "58   business intelligence          0.196768              0.196768\n",
       "3                     2020         -0.196014              0.196014"
      ]
     },
     "execution_count": 128,
     "metadata": {},
     "output_type": "execute_result"
    }
   ],
   "source": [
    "logr_coefs.filter(regex='(business)|(features)').sort_values('abs business analyst', ascending=False).head(20)"
   ]
  },
  {
   "cell_type": "code",
   "execution_count": 131,
   "metadata": {
    "Collapsed": "false"
   },
   "outputs": [
    {
     "data": {
      "text/html": [
       "<div>\n",
       "<style scoped>\n",
       "    .dataframe tbody tr th:only-of-type {\n",
       "        vertical-align: middle;\n",
       "    }\n",
       "\n",
       "    .dataframe tbody tr th {\n",
       "        vertical-align: top;\n",
       "    }\n",
       "\n",
       "    .dataframe thead th {\n",
       "        text-align: right;\n",
       "    }\n",
       "</style>\n",
       "<table border=\"1\" class=\"dataframe\">\n",
       "  <thead>\n",
       "    <tr style=\"text-align: right;\">\n",
       "      <th></th>\n",
       "      <th>features</th>\n",
       "      <th>data analyst</th>\n",
       "      <th>abs data analyst</th>\n",
       "    </tr>\n",
       "  </thead>\n",
       "  <tbody>\n",
       "    <tr>\n",
       "      <th>174</th>\n",
       "      <td>engineer</td>\n",
       "      <td>-0.343180</td>\n",
       "      <td>0.343180</td>\n",
       "    </tr>\n",
       "    <tr>\n",
       "      <th>20</th>\n",
       "      <td>analytics</td>\n",
       "      <td>0.340763</td>\n",
       "      <td>0.340763</td>\n",
       "    </tr>\n",
       "    <tr>\n",
       "      <th>17</th>\n",
       "      <td>analyst</td>\n",
       "      <td>0.332528</td>\n",
       "      <td>0.332528</td>\n",
       "    </tr>\n",
       "    <tr>\n",
       "      <th>144</th>\n",
       "      <td>developing</td>\n",
       "      <td>-0.311792</td>\n",
       "      <td>0.311792</td>\n",
       "    </tr>\n",
       "    <tr>\n",
       "      <th>482</th>\n",
       "      <td>time</td>\n",
       "      <td>-0.306818</td>\n",
       "      <td>0.306818</td>\n",
       "    </tr>\n",
       "    <tr>\n",
       "      <th>120</th>\n",
       "      <td>data analysis</td>\n",
       "      <td>0.288975</td>\n",
       "      <td>0.288975</td>\n",
       "    </tr>\n",
       "    <tr>\n",
       "      <th>288</th>\n",
       "      <td>life</td>\n",
       "      <td>0.277877</td>\n",
       "      <td>0.277877</td>\n",
       "    </tr>\n",
       "    <tr>\n",
       "      <th>464</th>\n",
       "      <td>support</td>\n",
       "      <td>-0.271268</td>\n",
       "      <td>0.271268</td>\n",
       "    </tr>\n",
       "    <tr>\n",
       "      <th>47</th>\n",
       "      <td>best</td>\n",
       "      <td>0.255016</td>\n",
       "      <td>0.255016</td>\n",
       "    </tr>\n",
       "    <tr>\n",
       "      <th>473</th>\n",
       "      <td>techniques</td>\n",
       "      <td>-0.250985</td>\n",
       "      <td>0.250985</td>\n",
       "    </tr>\n",
       "    <tr>\n",
       "      <th>356</th>\n",
       "      <td>performance</td>\n",
       "      <td>-0.241762</td>\n",
       "      <td>0.241762</td>\n",
       "    </tr>\n",
       "    <tr>\n",
       "      <th>519</th>\n",
       "      <td>years</td>\n",
       "      <td>-0.230140</td>\n",
       "      <td>0.230140</td>\n",
       "    </tr>\n",
       "    <tr>\n",
       "      <th>378</th>\n",
       "      <td>processing</td>\n",
       "      <td>-0.229468</td>\n",
       "      <td>0.229468</td>\n",
       "    </tr>\n",
       "    <tr>\n",
       "      <th>404</th>\n",
       "      <td>report</td>\n",
       "      <td>-0.225567</td>\n",
       "      <td>0.225567</td>\n",
       "    </tr>\n",
       "    <tr>\n",
       "      <th>393</th>\n",
       "      <td>python</td>\n",
       "      <td>-0.223665</td>\n",
       "      <td>0.223665</td>\n",
       "    </tr>\n",
       "    <tr>\n",
       "      <th>318</th>\n",
       "      <td>modelling</td>\n",
       "      <td>0.223578</td>\n",
       "      <td>0.223578</td>\n",
       "    </tr>\n",
       "    <tr>\n",
       "      <th>3</th>\n",
       "      <td>2020</td>\n",
       "      <td>0.223402</td>\n",
       "      <td>0.223402</td>\n",
       "    </tr>\n",
       "    <tr>\n",
       "      <th>453</th>\n",
       "      <td>standards</td>\n",
       "      <td>0.215887</td>\n",
       "      <td>0.215887</td>\n",
       "    </tr>\n",
       "    <tr>\n",
       "      <th>325</th>\n",
       "      <td>need</td>\n",
       "      <td>0.214719</td>\n",
       "      <td>0.214719</td>\n",
       "    </tr>\n",
       "    <tr>\n",
       "      <th>366</th>\n",
       "      <td>potential</td>\n",
       "      <td>0.213892</td>\n",
       "      <td>0.213892</td>\n",
       "    </tr>\n",
       "  </tbody>\n",
       "</table>\n",
       "</div>"
      ],
      "text/plain": [
       "          features  data analyst  abs data analyst\n",
       "174       engineer     -0.343180          0.343180\n",
       "20       analytics      0.340763          0.340763\n",
       "17         analyst      0.332528          0.332528\n",
       "144     developing     -0.311792          0.311792\n",
       "482           time     -0.306818          0.306818\n",
       "120  data analysis      0.288975          0.288975\n",
       "288           life      0.277877          0.277877\n",
       "464        support     -0.271268          0.271268\n",
       "47            best      0.255016          0.255016\n",
       "473     techniques     -0.250985          0.250985\n",
       "356    performance     -0.241762          0.241762\n",
       "519          years     -0.230140          0.230140\n",
       "378     processing     -0.229468          0.229468\n",
       "404         report     -0.225567          0.225567\n",
       "393         python     -0.223665          0.223665\n",
       "318      modelling      0.223578          0.223578\n",
       "3             2020      0.223402          0.223402\n",
       "453      standards      0.215887          0.215887\n",
       "325           need      0.214719          0.214719\n",
       "366      potential      0.213892          0.213892"
      ]
     },
     "execution_count": 131,
     "metadata": {},
     "output_type": "execute_result"
    }
   ],
   "source": [
    "logr_coefs.filter(regex='(data analyst)|(features)').sort_values('abs data analyst', ascending=False).head(20)"
   ]
  },
  {
   "cell_type": "code",
   "execution_count": 132,
   "metadata": {
    "Collapsed": "false"
   },
   "outputs": [
    {
     "data": {
      "text/html": [
       "<div>\n",
       "<style scoped>\n",
       "    .dataframe tbody tr th:only-of-type {\n",
       "        vertical-align: middle;\n",
       "    }\n",
       "\n",
       "    .dataframe tbody tr th {\n",
       "        vertical-align: top;\n",
       "    }\n",
       "\n",
       "    .dataframe thead th {\n",
       "        text-align: right;\n",
       "    }\n",
       "</style>\n",
       "<table border=\"1\" class=\"dataframe\">\n",
       "  <thead>\n",
       "    <tr style=\"text-align: right;\">\n",
       "      <th></th>\n",
       "      <th>features</th>\n",
       "      <th>data engineer</th>\n",
       "      <th>abs data engineer</th>\n",
       "    </tr>\n",
       "  </thead>\n",
       "  <tbody>\n",
       "    <tr>\n",
       "      <th>174</th>\n",
       "      <td>engineer</td>\n",
       "      <td>0.509507</td>\n",
       "      <td>0.509507</td>\n",
       "    </tr>\n",
       "    <tr>\n",
       "      <th>55</th>\n",
       "      <td>business</td>\n",
       "      <td>-0.371315</td>\n",
       "      <td>0.371315</td>\n",
       "    </tr>\n",
       "    <tr>\n",
       "      <th>122</th>\n",
       "      <td>data engineer</td>\n",
       "      <td>0.334886</td>\n",
       "      <td>0.334886</td>\n",
       "    </tr>\n",
       "    <tr>\n",
       "      <th>77</th>\n",
       "      <td>cloud</td>\n",
       "      <td>0.330945</td>\n",
       "      <td>0.330945</td>\n",
       "    </tr>\n",
       "    <tr>\n",
       "      <th>175</th>\n",
       "      <td>engineering</td>\n",
       "      <td>0.318435</td>\n",
       "      <td>0.318435</td>\n",
       "    </tr>\n",
       "    <tr>\n",
       "      <th>356</th>\n",
       "      <td>performance</td>\n",
       "      <td>0.298111</td>\n",
       "      <td>0.298111</td>\n",
       "    </tr>\n",
       "    <tr>\n",
       "      <th>328</th>\n",
       "      <td>new</td>\n",
       "      <td>0.273297</td>\n",
       "      <td>0.273297</td>\n",
       "    </tr>\n",
       "    <tr>\n",
       "      <th>255</th>\n",
       "      <td>industry</td>\n",
       "      <td>0.261057</td>\n",
       "      <td>0.261057</td>\n",
       "    </tr>\n",
       "    <tr>\n",
       "      <th>38</th>\n",
       "      <td>aws</td>\n",
       "      <td>0.247392</td>\n",
       "      <td>0.247392</td>\n",
       "    </tr>\n",
       "    <tr>\n",
       "      <th>20</th>\n",
       "      <td>analytics</td>\n",
       "      <td>-0.230312</td>\n",
       "      <td>0.230312</td>\n",
       "    </tr>\n",
       "    <tr>\n",
       "      <th>17</th>\n",
       "      <td>analyst</td>\n",
       "      <td>-0.228726</td>\n",
       "      <td>0.228726</td>\n",
       "    </tr>\n",
       "    <tr>\n",
       "      <th>119</th>\n",
       "      <td>data</td>\n",
       "      <td>0.221817</td>\n",
       "      <td>0.221817</td>\n",
       "    </tr>\n",
       "    <tr>\n",
       "      <th>194</th>\n",
       "      <td>experience</td>\n",
       "      <td>0.216233</td>\n",
       "      <td>0.216233</td>\n",
       "    </tr>\n",
       "    <tr>\n",
       "      <th>16</th>\n",
       "      <td>analysis</td>\n",
       "      <td>-0.208692</td>\n",
       "      <td>0.208692</td>\n",
       "    </tr>\n",
       "    <tr>\n",
       "      <th>483</th>\n",
       "      <td>tools</td>\n",
       "      <td>0.203569</td>\n",
       "      <td>0.203569</td>\n",
       "    </tr>\n",
       "    <tr>\n",
       "      <th>439</th>\n",
       "      <td>software</td>\n",
       "      <td>0.203082</td>\n",
       "      <td>0.203082</td>\n",
       "    </tr>\n",
       "    <tr>\n",
       "      <th>320</th>\n",
       "      <td>monitoring</td>\n",
       "      <td>0.201737</td>\n",
       "      <td>0.201737</td>\n",
       "    </tr>\n",
       "    <tr>\n",
       "      <th>435</th>\n",
       "      <td>skills</td>\n",
       "      <td>-0.200034</td>\n",
       "      <td>0.200034</td>\n",
       "    </tr>\n",
       "    <tr>\n",
       "      <th>178</th>\n",
       "      <td>ensure</td>\n",
       "      <td>0.199757</td>\n",
       "      <td>0.199757</td>\n",
       "    </tr>\n",
       "    <tr>\n",
       "      <th>393</th>\n",
       "      <td>python</td>\n",
       "      <td>0.195741</td>\n",
       "      <td>0.195741</td>\n",
       "    </tr>\n",
       "  </tbody>\n",
       "</table>\n",
       "</div>"
      ],
      "text/plain": [
       "          features  data engineer  abs data engineer\n",
       "174       engineer       0.509507           0.509507\n",
       "55        business      -0.371315           0.371315\n",
       "122  data engineer       0.334886           0.334886\n",
       "77           cloud       0.330945           0.330945\n",
       "175    engineering       0.318435           0.318435\n",
       "356    performance       0.298111           0.298111\n",
       "328            new       0.273297           0.273297\n",
       "255       industry       0.261057           0.261057\n",
       "38             aws       0.247392           0.247392\n",
       "20       analytics      -0.230312           0.230312\n",
       "17         analyst      -0.228726           0.228726\n",
       "119           data       0.221817           0.221817\n",
       "194     experience       0.216233           0.216233\n",
       "16        analysis      -0.208692           0.208692\n",
       "483          tools       0.203569           0.203569\n",
       "439       software       0.203082           0.203082\n",
       "320     monitoring       0.201737           0.201737\n",
       "435         skills      -0.200034           0.200034\n",
       "178         ensure       0.199757           0.199757\n",
       "393         python       0.195741           0.195741"
      ]
     },
     "execution_count": 132,
     "metadata": {},
     "output_type": "execute_result"
    }
   ],
   "source": [
    "logr_coefs.filter(regex='(data engineer)|(features)').sort_values('abs data engineer', ascending=False).head(20)"
   ]
  },
  {
   "cell_type": "code",
   "execution_count": 133,
   "metadata": {
    "Collapsed": "false"
   },
   "outputs": [
    {
     "data": {
      "text/html": [
       "<div>\n",
       "<style scoped>\n",
       "    .dataframe tbody tr th:only-of-type {\n",
       "        vertical-align: middle;\n",
       "    }\n",
       "\n",
       "    .dataframe tbody tr th {\n",
       "        vertical-align: top;\n",
       "    }\n",
       "\n",
       "    .dataframe thead th {\n",
       "        text-align: right;\n",
       "    }\n",
       "</style>\n",
       "<table border=\"1\" class=\"dataframe\">\n",
       "  <thead>\n",
       "    <tr style=\"text-align: right;\">\n",
       "      <th></th>\n",
       "      <th>features</th>\n",
       "      <th>data scientist</th>\n",
       "      <th>abs data scientist</th>\n",
       "    </tr>\n",
       "  </thead>\n",
       "  <tbody>\n",
       "    <tr>\n",
       "      <th>422</th>\n",
       "      <td>science</td>\n",
       "      <td>0.503483</td>\n",
       "      <td>0.503483</td>\n",
       "    </tr>\n",
       "    <tr>\n",
       "      <th>123</th>\n",
       "      <td>data science</td>\n",
       "      <td>0.397042</td>\n",
       "      <td>0.397042</td>\n",
       "    </tr>\n",
       "    <tr>\n",
       "      <th>473</th>\n",
       "      <td>techniques</td>\n",
       "      <td>0.361256</td>\n",
       "      <td>0.361256</td>\n",
       "    </tr>\n",
       "    <tr>\n",
       "      <th>393</th>\n",
       "      <td>python</td>\n",
       "      <td>0.335552</td>\n",
       "      <td>0.335552</td>\n",
       "    </tr>\n",
       "    <tr>\n",
       "      <th>482</th>\n",
       "      <td>time</td>\n",
       "      <td>0.309740</td>\n",
       "      <td>0.309740</td>\n",
       "    </tr>\n",
       "    <tr>\n",
       "      <th>144</th>\n",
       "      <td>developing</td>\n",
       "      <td>0.302114</td>\n",
       "      <td>0.302114</td>\n",
       "    </tr>\n",
       "    <tr>\n",
       "      <th>296</th>\n",
       "      <td>machine learning</td>\n",
       "      <td>0.285564</td>\n",
       "      <td>0.285564</td>\n",
       "    </tr>\n",
       "    <tr>\n",
       "      <th>317</th>\n",
       "      <td>model</td>\n",
       "      <td>0.283157</td>\n",
       "      <td>0.283157</td>\n",
       "    </tr>\n",
       "    <tr>\n",
       "      <th>295</th>\n",
       "      <td>machine</td>\n",
       "      <td>0.277640</td>\n",
       "      <td>0.277640</td>\n",
       "    </tr>\n",
       "    <tr>\n",
       "      <th>319</th>\n",
       "      <td>models</td>\n",
       "      <td>0.250867</td>\n",
       "      <td>0.250867</td>\n",
       "    </tr>\n",
       "    <tr>\n",
       "      <th>194</th>\n",
       "      <td>experience</td>\n",
       "      <td>-0.237339</td>\n",
       "      <td>0.237339</td>\n",
       "    </tr>\n",
       "    <tr>\n",
       "      <th>384</th>\n",
       "      <td>programming</td>\n",
       "      <td>0.237291</td>\n",
       "      <td>0.237291</td>\n",
       "    </tr>\n",
       "    <tr>\n",
       "      <th>455</th>\n",
       "      <td>statistical</td>\n",
       "      <td>0.222694</td>\n",
       "      <td>0.222694</td>\n",
       "    </tr>\n",
       "    <tr>\n",
       "      <th>17</th>\n",
       "      <td>analyst</td>\n",
       "      <td>-0.205201</td>\n",
       "      <td>0.205201</td>\n",
       "    </tr>\n",
       "    <tr>\n",
       "      <th>34</th>\n",
       "      <td>australia</td>\n",
       "      <td>0.201454</td>\n",
       "      <td>0.201454</td>\n",
       "    </tr>\n",
       "    <tr>\n",
       "      <th>225</th>\n",
       "      <td>good</td>\n",
       "      <td>0.196189</td>\n",
       "      <td>0.196189</td>\n",
       "    </tr>\n",
       "    <tr>\n",
       "      <th>328</th>\n",
       "      <td>new</td>\n",
       "      <td>-0.195827</td>\n",
       "      <td>0.195827</td>\n",
       "    </tr>\n",
       "    <tr>\n",
       "      <th>29</th>\n",
       "      <td>areas</td>\n",
       "      <td>0.193185</td>\n",
       "      <td>0.193185</td>\n",
       "    </tr>\n",
       "    <tr>\n",
       "      <th>227</th>\n",
       "      <td>great</td>\n",
       "      <td>-0.188277</td>\n",
       "      <td>0.188277</td>\n",
       "    </tr>\n",
       "    <tr>\n",
       "      <th>16</th>\n",
       "      <td>analysis</td>\n",
       "      <td>0.181901</td>\n",
       "      <td>0.181901</td>\n",
       "    </tr>\n",
       "  </tbody>\n",
       "</table>\n",
       "</div>"
      ],
      "text/plain": [
       "             features  data scientist  abs data scientist\n",
       "422           science        0.503483            0.503483\n",
       "123      data science        0.397042            0.397042\n",
       "473        techniques        0.361256            0.361256\n",
       "393            python        0.335552            0.335552\n",
       "482              time        0.309740            0.309740\n",
       "144        developing        0.302114            0.302114\n",
       "296  machine learning        0.285564            0.285564\n",
       "317             model        0.283157            0.283157\n",
       "295           machine        0.277640            0.277640\n",
       "319            models        0.250867            0.250867\n",
       "194        experience       -0.237339            0.237339\n",
       "384       programming        0.237291            0.237291\n",
       "455       statistical        0.222694            0.222694\n",
       "17            analyst       -0.205201            0.205201\n",
       "34          australia        0.201454            0.201454\n",
       "225              good        0.196189            0.196189\n",
       "328               new       -0.195827            0.195827\n",
       "29              areas        0.193185            0.193185\n",
       "227             great       -0.188277            0.188277\n",
       "16           analysis        0.181901            0.181901"
      ]
     },
     "execution_count": 133,
     "metadata": {},
     "output_type": "execute_result"
    }
   ],
   "source": [
    "logr_coefs.filter(regex='(data scientist)|(features)').sort_values('abs data scientist', ascending=False).head(20)"
   ]
  },
  {
   "cell_type": "code",
   "execution_count": 320,
   "metadata": {
    "Collapsed": "false"
   },
   "outputs": [],
   "source": [
    "# Definning a plotter to visualise description weights on predicting job title\n",
    "\n",
    "def plotter(title):\n",
    "    import matplotlib.pyplot as plt\n",
    "    import seaborn as sns\n",
    "\n",
    "    # Plotting the most influential features\n",
    "    df =logr_coefs.filter(regex=f'({title})|(features)').sort_values(f'{title}', ascending=False)\n",
    "    df =pd.concat([df.head(15),df.tail(15)])\n",
    "\n",
    "    fig,ax = plt.subplots(1,1,figsize=(8,10))\n",
    "    sns.barplot(data=df,y= 'features',x = f'{title}')\n",
    "    ax.set_xlabel(\"Coefficients\",fontsize=20)\n",
    "    ax.tick_params(axis='both', which='major', labelsize=18)\n",
    "    ax.tick_params(axis='both', which='minor', labelsize=18)\n",
    "    ax.set_title(f'{title} skillset', size=30)\n",
    "    ax.set_ylabel(\"Features\",fontsize=20)"
   ]
  },
  {
   "cell_type": "code",
   "execution_count": 321,
   "metadata": {
    "Collapsed": "false"
   },
   "outputs": [
    {
     "data": {
      "image/png": "[encoded data removed]",
      "text/plain": [
       "<Figure size 576x720 with 1 Axes>"
      ]
     },
     "metadata": {
      "needs_background": "light"
     },
     "output_type": "display_data"
    }
   ],
   "source": [
    "plotter('business analyst')"
   ]
  },
  {
   "cell_type": "code",
   "execution_count": 322,
   "metadata": {
    "Collapsed": "false"
   },
   "outputs": [
    {
     "data": {
      "image/png": "[encoded data removed]",
      "text/plain": [
       "<Figure size 576x720 with 1 Axes>"
      ]
     },
     "metadata": {
      "needs_background": "light"
     },
     "output_type": "display_data"
    }
   ],
   "source": [
    "plotter('data analyst')"
   ]
  },
  {
   "cell_type": "code",
   "execution_count": 323,
   "metadata": {
    "Collapsed": "false"
   },
   "outputs": [
    {
     "data": {
      "image/png": "[encoded data removed]",
      "text/plain": [
       "<Figure size 576x720 with 1 Axes>"
      ]
     },
     "metadata": {
      "needs_background": "light"
     },
     "output_type": "display_data"
    }
   ],
   "source": [
    "plotter('data scientist')"
   ]
  },
  {
   "cell_type": "code",
   "execution_count": 324,
   "metadata": {
    "Collapsed": "false"
   },
   "outputs": [
    {
     "data": {
      "image/png": "[encoded data removed]",
      "text/plain": [
       "<Figure size 576x720 with 1 Axes>"
      ]
     },
     "metadata": {
      "needs_background": "light"
     },
     "output_type": "display_data"
    }
   ],
   "source": [
    "plotter('data engineer')"
   ]
  },
  {
   "cell_type": "code",
   "execution_count": 406,
   "metadata": {
    "Collapsed": "false"
   },
   "outputs": [
    {
     "data": {
      "text/html": [
       "<div>\n",
       "<style scoped>\n",
       "    .dataframe tbody tr th:only-of-type {\n",
       "        vertical-align: middle;\n",
       "    }\n",
       "\n",
       "    .dataframe tbody tr th {\n",
       "        vertical-align: top;\n",
       "    }\n",
       "\n",
       "    .dataframe thead th {\n",
       "        text-align: right;\n",
       "    }\n",
       "</style>\n",
       "<table border=\"1\" class=\"dataframe\">\n",
       "  <thead>\n",
       "    <tr style=\"text-align: right;\">\n",
       "      <th></th>\n",
       "      <th>features</th>\n",
       "      <th>business analyst</th>\n",
       "      <th>data analyst</th>\n",
       "      <th>data engineer</th>\n",
       "      <th>data scientist</th>\n",
       "      <th>abs business analyst</th>\n",
       "      <th>abs data analyst</th>\n",
       "      <th>abs data engineer</th>\n",
       "      <th>abs data scientist</th>\n",
       "    </tr>\n",
       "  </thead>\n",
       "  <tbody>\n",
       "    <tr>\n",
       "      <th>468</th>\n",
       "      <td>tableau</td>\n",
       "      <td>0.139669</td>\n",
       "      <td>-0.118133</td>\n",
       "      <td>0.010427</td>\n",
       "      <td>-0.031963</td>\n",
       "      <td>0.139669</td>\n",
       "      <td>0.118133</td>\n",
       "      <td>0.010427</td>\n",
       "      <td>0.031963</td>\n",
       "    </tr>\n",
       "    <tr>\n",
       "      <th>77</th>\n",
       "      <td>cloud</td>\n",
       "      <td>-0.120313</td>\n",
       "      <td>-0.136143</td>\n",
       "      <td>0.330945</td>\n",
       "      <td>-0.074488</td>\n",
       "      <td>0.120313</td>\n",
       "      <td>0.136143</td>\n",
       "      <td>0.330945</td>\n",
       "      <td>0.074488</td>\n",
       "    </tr>\n",
       "    <tr>\n",
       "      <th>38</th>\n",
       "      <td>aws</td>\n",
       "      <td>-0.172835</td>\n",
       "      <td>-0.136384</td>\n",
       "      <td>0.247392</td>\n",
       "      <td>0.061827</td>\n",
       "      <td>0.172835</td>\n",
       "      <td>0.136384</td>\n",
       "      <td>0.247392</td>\n",
       "      <td>0.061827</td>\n",
       "    </tr>\n",
       "    <tr>\n",
       "      <th>393</th>\n",
       "      <td>python</td>\n",
       "      <td>-0.307629</td>\n",
       "      <td>-0.223665</td>\n",
       "      <td>0.195741</td>\n",
       "      <td>0.335552</td>\n",
       "      <td>0.307629</td>\n",
       "      <td>0.223665</td>\n",
       "      <td>0.195741</td>\n",
       "      <td>0.335552</td>\n",
       "    </tr>\n",
       "    <tr>\n",
       "      <th>125</th>\n",
       "      <td>databases</td>\n",
       "      <td>-0.111082</td>\n",
       "      <td>-0.069308</td>\n",
       "      <td>0.195479</td>\n",
       "      <td>-0.015089</td>\n",
       "      <td>0.111082</td>\n",
       "      <td>0.069308</td>\n",
       "      <td>0.195479</td>\n",
       "      <td>0.015089</td>\n",
       "    </tr>\n",
       "    <tr>\n",
       "      <th>503</th>\n",
       "      <td>visualisation</td>\n",
       "      <td>0.044119</td>\n",
       "      <td>0.100391</td>\n",
       "      <td>-0.175823</td>\n",
       "      <td>0.031313</td>\n",
       "      <td>0.044119</td>\n",
       "      <td>0.100391</td>\n",
       "      <td>0.175823</td>\n",
       "      <td>0.031313</td>\n",
       "    </tr>\n",
       "    <tr>\n",
       "      <th>296</th>\n",
       "      <td>machine learning</td>\n",
       "      <td>-0.136527</td>\n",
       "      <td>-0.116462</td>\n",
       "      <td>-0.032574</td>\n",
       "      <td>0.285564</td>\n",
       "      <td>0.136527</td>\n",
       "      <td>0.116462</td>\n",
       "      <td>0.032574</td>\n",
       "      <td>0.285564</td>\n",
       "    </tr>\n",
       "    <tr>\n",
       "      <th>448</th>\n",
       "      <td>sql</td>\n",
       "      <td>0.032422</td>\n",
       "      <td>-0.010471</td>\n",
       "      <td>0.040174</td>\n",
       "      <td>-0.062125</td>\n",
       "      <td>0.032422</td>\n",
       "      <td>0.010471</td>\n",
       "      <td>0.040174</td>\n",
       "      <td>0.062125</td>\n",
       "    </tr>\n",
       "    <tr>\n",
       "      <th>39</th>\n",
       "      <td>azure</td>\n",
       "      <td>-0.048481</td>\n",
       "      <td>0.001003</td>\n",
       "      <td>0.026713</td>\n",
       "      <td>0.020765</td>\n",
       "      <td>0.048481</td>\n",
       "      <td>0.001003</td>\n",
       "      <td>0.026713</td>\n",
       "      <td>0.020765</td>\n",
       "    </tr>\n",
       "    <tr>\n",
       "      <th>406</th>\n",
       "      <td>reports</td>\n",
       "      <td>0.021012</td>\n",
       "      <td>0.163240</td>\n",
       "      <td>-0.109274</td>\n",
       "      <td>-0.074978</td>\n",
       "      <td>0.021012</td>\n",
       "      <td>0.163240</td>\n",
       "      <td>0.109274</td>\n",
       "      <td>0.074978</td>\n",
       "    </tr>\n",
       "    <tr>\n",
       "      <th>261</th>\n",
       "      <td>insights</td>\n",
       "      <td>-0.089227</td>\n",
       "      <td>0.074147</td>\n",
       "      <td>-0.011301</td>\n",
       "      <td>0.026381</td>\n",
       "      <td>0.089227</td>\n",
       "      <td>0.074147</td>\n",
       "      <td>0.011301</td>\n",
       "      <td>0.026381</td>\n",
       "    </tr>\n",
       "    <tr>\n",
       "      <th>51</th>\n",
       "      <td>big data</td>\n",
       "      <td>-0.049140</td>\n",
       "      <td>-0.101530</td>\n",
       "      <td>0.041209</td>\n",
       "      <td>0.109461</td>\n",
       "      <td>0.049140</td>\n",
       "      <td>0.101530</td>\n",
       "      <td>0.041209</td>\n",
       "      <td>0.109461</td>\n",
       "    </tr>\n",
       "    <tr>\n",
       "      <th>446</th>\n",
       "      <td>spark</td>\n",
       "      <td>-0.043064</td>\n",
       "      <td>-0.092161</td>\n",
       "      <td>0.120394</td>\n",
       "      <td>0.014831</td>\n",
       "      <td>0.043064</td>\n",
       "      <td>0.092161</td>\n",
       "      <td>0.120394</td>\n",
       "      <td>0.014831</td>\n",
       "    </tr>\n",
       "    <tr>\n",
       "      <th>451</th>\n",
       "      <td>stakeholders</td>\n",
       "      <td>0.089268</td>\n",
       "      <td>0.076089</td>\n",
       "      <td>-0.048720</td>\n",
       "      <td>-0.116637</td>\n",
       "      <td>0.089268</td>\n",
       "      <td>0.076089</td>\n",
       "      <td>0.048720</td>\n",
       "      <td>0.116637</td>\n",
       "    </tr>\n",
       "    <tr>\n",
       "      <th>58</th>\n",
       "      <td>business intelligence</td>\n",
       "      <td>0.196768</td>\n",
       "      <td>-0.104009</td>\n",
       "      <td>-0.087233</td>\n",
       "      <td>-0.005527</td>\n",
       "      <td>0.196768</td>\n",
       "      <td>0.104009</td>\n",
       "      <td>0.087233</td>\n",
       "      <td>0.005527</td>\n",
       "    </tr>\n",
       "    <tr>\n",
       "      <th>189</th>\n",
       "      <td>excel</td>\n",
       "      <td>0.094425</td>\n",
       "      <td>0.090267</td>\n",
       "      <td>-0.060698</td>\n",
       "      <td>-0.123993</td>\n",
       "      <td>0.094425</td>\n",
       "      <td>0.090267</td>\n",
       "      <td>0.060698</td>\n",
       "      <td>0.123993</td>\n",
       "    </tr>\n",
       "  </tbody>\n",
       "</table>\n",
       "</div>"
      ],
      "text/plain": [
       "                  features  business analyst  data analyst  data engineer  \\\n",
       "468                tableau          0.139669     -0.118133       0.010427   \n",
       "77                   cloud         -0.120313     -0.136143       0.330945   \n",
       "38                     aws         -0.172835     -0.136384       0.247392   \n",
       "393                 python         -0.307629     -0.223665       0.195741   \n",
       "125              databases         -0.111082     -0.069308       0.195479   \n",
       "503          visualisation          0.044119      0.100391      -0.175823   \n",
       "296       machine learning         -0.136527     -0.116462      -0.032574   \n",
       "448                    sql          0.032422     -0.010471       0.040174   \n",
       "39                   azure         -0.048481      0.001003       0.026713   \n",
       "406                reports          0.021012      0.163240      -0.109274   \n",
       "261               insights         -0.089227      0.074147      -0.011301   \n",
       "51                big data         -0.049140     -0.101530       0.041209   \n",
       "446                  spark         -0.043064     -0.092161       0.120394   \n",
       "451           stakeholders          0.089268      0.076089      -0.048720   \n",
       "58   business intelligence          0.196768     -0.104009      -0.087233   \n",
       "189                  excel          0.094425      0.090267      -0.060698   \n",
       "\n",
       "     data scientist  abs business analyst  abs data analyst  \\\n",
       "468       -0.031963              0.139669          0.118133   \n",
       "77        -0.074488              0.120313          0.136143   \n",
       "38         0.061827              0.172835          0.136384   \n",
       "393        0.335552              0.307629          0.223665   \n",
       "125       -0.015089              0.111082          0.069308   \n",
       "503        0.031313              0.044119          0.100391   \n",
       "296        0.285564              0.136527          0.116462   \n",
       "448       -0.062125              0.032422          0.010471   \n",
       "39         0.020765              0.048481          0.001003   \n",
       "406       -0.074978              0.021012          0.163240   \n",
       "261        0.026381              0.089227          0.074147   \n",
       "51         0.109461              0.049140          0.101530   \n",
       "446        0.014831              0.043064          0.092161   \n",
       "451       -0.116637              0.089268          0.076089   \n",
       "58        -0.005527              0.196768          0.104009   \n",
       "189       -0.123993              0.094425          0.090267   \n",
       "\n",
       "     abs data engineer  abs data scientist  \n",
       "468           0.010427            0.031963  \n",
       "77            0.330945            0.074488  \n",
       "38            0.247392            0.061827  \n",
       "393           0.195741            0.335552  \n",
       "125           0.195479            0.015089  \n",
       "503           0.175823            0.031313  \n",
       "296           0.032574            0.285564  \n",
       "448           0.040174            0.062125  \n",
       "39            0.026713            0.020765  \n",
       "406           0.109274            0.074978  \n",
       "261           0.011301            0.026381  \n",
       "51            0.041209            0.109461  \n",
       "446           0.120394            0.014831  \n",
       "451           0.048720            0.116637  \n",
       "58            0.087233            0.005527  \n",
       "189           0.060698            0.123993  "
      ]
     },
     "execution_count": 406,
     "metadata": {},
     "output_type": "execute_result"
    }
   ],
   "source": [
    "# Manually selecting the key features\n",
    "\n",
    "features_list = ['tableau','cloud','aws','python','databases','visualisation','machine learning','sql','azure','reports','insights','big data','spss','sas','google','hadoop',\n",
    "                'spark','dashboard','stakeholders','business intelligence']\n",
    "exact_feature = ['r','excel']\n",
    "features_df = pd.DataFrame(columns=logr_coefs.columns)\n",
    "for feature in features_list:\n",
    "    foo = logr_coefs[logr_coefs['features'].str.contains(feature)]\n",
    "    features_df = pd.concat([features_df,foo],axis=0)\n",
    "for feature in exact_feature:\n",
    "    foo = logr_coefs[logr_coefs['features']== feature]\n",
    "    features_df = pd.concat([features_df,foo],axis=0)\n",
    "features_df"
   ]
  },
  {
   "cell_type": "code",
   "execution_count": 407,
   "metadata": {
    "Collapsed": "false"
   },
   "outputs": [],
   "source": [
    "# Definning a plotter to visualise description weights on predicting job title\n",
    "\n",
    "def plotter_sorted(title):\n",
    "    import matplotlib.pyplot as plt\n",
    "    import seaborn as sns\n",
    "\n",
    "    df = features_df.sort_values(f'{title}',ascending=False)\n",
    "\n",
    "    fig,ax = plt.subplots(1,1,figsize=(8,10))\n",
    "    sns.barplot(data=df,y= 'features',x = f'{title}')\n",
    "    ax.set_xlabel(\"Coefficients\",fontsize=20)\n",
    "    ax.tick_params(axis='both', which='major', labelsize=18)\n",
    "    ax.tick_params(axis='both', which='minor', labelsize=18)\n",
    "    ax.set_title(f'{title} skillset', size=30)\n",
    "    ax.set_ylabel(\"Features\",fontsize=20)"
   ]
  },
  {
   "cell_type": "code",
   "execution_count": 408,
   "metadata": {
    "Collapsed": "false"
   },
   "outputs": [
    {
     "data": {
      "image/png": "[encoded data removed]",
      "text/plain": [
       "<Figure size 576x720 with 1 Axes>"
      ]
     },
     "metadata": {
      "needs_background": "light"
     },
     "output_type": "display_data"
    }
   ],
   "source": [
    "plotter_sorted('business analyst')"
   ]
  },
  {
   "cell_type": "code",
   "execution_count": 409,
   "metadata": {
    "Collapsed": "false"
   },
   "outputs": [
    {
     "data": {
      "image/png": "[encoded data removed]",
      "text/plain": [
       "<Figure size 576x720 with 1 Axes>"
      ]
     },
     "metadata": {
      "needs_background": "light"
     },
     "output_type": "display_data"
    }
   ],
   "source": [
    "plotter_sorted('data analyst')"
   ]
  },
  {
   "cell_type": "code",
   "execution_count": 410,
   "metadata": {
    "Collapsed": "false"
   },
   "outputs": [
    {
     "data": {
      "image/png": "[encoded data removed]",
      "text/plain": [
       "<Figure size 576x720 with 1 Axes>"
      ]
     },
     "metadata": {
      "needs_background": "light"
     },
     "output_type": "display_data"
    }
   ],
   "source": [
    "plotter_sorted('data engineer')"
   ]
  },
  {
   "cell_type": "code",
   "execution_count": 411,
   "metadata": {
    "Collapsed": "false"
   },
   "outputs": [
    {
     "data": {
      "image/png": "[encoded data removed]",
      "text/plain": [
       "<Figure size 576x720 with 1 Axes>"
      ]
     },
     "metadata": {
      "needs_background": "light"
     },
     "output_type": "display_data"
    }
   ],
   "source": [
    "plotter_sorted('data scientist')"
   ]
  }
 ],
 "metadata": {
  "kernelspec": {
   "display_name": "Python 3",
   "language": "python",
   "name": "python3"
  },
  "language_info": {
   "codemirror_mode": {
    "name": "ipython",
    "version": 3
   },
   "file_extension": ".py",
   "mimetype": "text/x-python",
   "name": "python",
   "nbconvert_exporter": "python",
   "pygments_lexer": "ipython3",
   "version": "3.7.3"
  }
 },
 "nbformat": 4,
 "nbformat_minor": 4
}
